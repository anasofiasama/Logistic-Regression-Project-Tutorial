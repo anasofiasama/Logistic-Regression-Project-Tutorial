{
    "cells": [
        {
            "cell_type": "markdown",
            "metadata": {},
            "source": [
                "# Proyecto de campaña de marketing para Banco\n",
                "\n",
                "\n",
                "Algunos puntos a considerar:\n",
                "- Objetivo: se quiere predecir si un cliente del Banco va a realizar un depósito a plazo o no -> Predicción\n",
                "- Los datos están etiquetados, es decir, tenemos una muestra del comportamiento observado de algunos usuarios -> Aprendizaje Supervisado\n",
                "- La variable a explicar (y : ¿Va a depositar a plazo?) es categórica (si/no) -> Problema de clasificación"
            ]
        },
        {
            "cell_type": "markdown",
            "metadata": {},
            "source": [
                "### Paso 1 : Importación de datos desde página web"
            ]
        },
        {
            "cell_type": "code",
            "execution_count": 235,
            "metadata": {},
            "outputs": [],
            "source": [
                "import pandas as pd\n",
                "import numpy as np\n",
                "import matplotlib.pyplot as plt"
            ]
        },
        {
            "cell_type": "code",
            "execution_count": 236,
            "metadata": {},
            "outputs": [],
            "source": [
                "url='https://raw.githubusercontent.com/4GeeksAcademy/logistic-regression-project-tutorial/'+\\\n",
                "    'main/bank-marketing-campaign-data.csv'\n",
                "df=pd.read_csv(url,sep=';')"
            ]
        },
        {
            "cell_type": "markdown",
            "metadata": {},
            "source": [
                "### Paso 2 : Análisis exploratorio de datos\n"
            ]
        },
        {
            "cell_type": "markdown",
            "metadata": {},
            "source": [
                "Lo primero es ver cómo vienen los datos, para ello se imprime una muestra aleatoria de 10 observaciones y se analiza la información principal y descriptiva de la base."
            ]
        },
        {
            "cell_type": "code",
            "execution_count": 237,
            "metadata": {},
            "outputs": [
                {
                    "data": {
                        "text/html": [
                            "<div>\n",
                            "<style scoped>\n",
                            "    .dataframe tbody tr th:only-of-type {\n",
                            "        vertical-align: middle;\n",
                            "    }\n",
                            "\n",
                            "    .dataframe tbody tr th {\n",
                            "        vertical-align: top;\n",
                            "    }\n",
                            "\n",
                            "    .dataframe thead th {\n",
                            "        text-align: right;\n",
                            "    }\n",
                            "</style>\n",
                            "<table border=\"1\" class=\"dataframe\">\n",
                            "  <thead>\n",
                            "    <tr style=\"text-align: right;\">\n",
                            "      <th></th>\n",
                            "      <th>age</th>\n",
                            "      <th>job</th>\n",
                            "      <th>marital</th>\n",
                            "      <th>education</th>\n",
                            "      <th>default</th>\n",
                            "      <th>housing</th>\n",
                            "      <th>loan</th>\n",
                            "      <th>contact</th>\n",
                            "      <th>month</th>\n",
                            "      <th>day_of_week</th>\n",
                            "      <th>...</th>\n",
                            "      <th>campaign</th>\n",
                            "      <th>pdays</th>\n",
                            "      <th>previous</th>\n",
                            "      <th>poutcome</th>\n",
                            "      <th>emp.var.rate</th>\n",
                            "      <th>cons.price.idx</th>\n",
                            "      <th>cons.conf.idx</th>\n",
                            "      <th>euribor3m</th>\n",
                            "      <th>nr.employed</th>\n",
                            "      <th>y</th>\n",
                            "    </tr>\n",
                            "  </thead>\n",
                            "  <tbody>\n",
                            "    <tr>\n",
                            "      <th>9268</th>\n",
                            "      <td>29</td>\n",
                            "      <td>admin.</td>\n",
                            "      <td>married</td>\n",
                            "      <td>high.school</td>\n",
                            "      <td>no</td>\n",
                            "      <td>no</td>\n",
                            "      <td>no</td>\n",
                            "      <td>telephone</td>\n",
                            "      <td>jun</td>\n",
                            "      <td>fri</td>\n",
                            "      <td>...</td>\n",
                            "      <td>4</td>\n",
                            "      <td>999</td>\n",
                            "      <td>0</td>\n",
                            "      <td>nonexistent</td>\n",
                            "      <td>1.4</td>\n",
                            "      <td>94.465</td>\n",
                            "      <td>-41.8</td>\n",
                            "      <td>4.967</td>\n",
                            "      <td>5228.1</td>\n",
                            "      <td>no</td>\n",
                            "    </tr>\n",
                            "    <tr>\n",
                            "      <th>40788</th>\n",
                            "      <td>50</td>\n",
                            "      <td>management</td>\n",
                            "      <td>married</td>\n",
                            "      <td>university.degree</td>\n",
                            "      <td>no</td>\n",
                            "      <td>no</td>\n",
                            "      <td>no</td>\n",
                            "      <td>cellular</td>\n",
                            "      <td>sep</td>\n",
                            "      <td>thu</td>\n",
                            "      <td>...</td>\n",
                            "      <td>4</td>\n",
                            "      <td>999</td>\n",
                            "      <td>3</td>\n",
                            "      <td>failure</td>\n",
                            "      <td>-1.1</td>\n",
                            "      <td>94.199</td>\n",
                            "      <td>-37.5</td>\n",
                            "      <td>0.878</td>\n",
                            "      <td>4963.6</td>\n",
                            "      <td>no</td>\n",
                            "    </tr>\n",
                            "    <tr>\n",
                            "      <th>4240</th>\n",
                            "      <td>49</td>\n",
                            "      <td>admin.</td>\n",
                            "      <td>divorced</td>\n",
                            "      <td>university.degree</td>\n",
                            "      <td>no</td>\n",
                            "      <td>no</td>\n",
                            "      <td>no</td>\n",
                            "      <td>telephone</td>\n",
                            "      <td>may</td>\n",
                            "      <td>tue</td>\n",
                            "      <td>...</td>\n",
                            "      <td>1</td>\n",
                            "      <td>999</td>\n",
                            "      <td>0</td>\n",
                            "      <td>nonexistent</td>\n",
                            "      <td>1.1</td>\n",
                            "      <td>93.994</td>\n",
                            "      <td>-36.4</td>\n",
                            "      <td>4.856</td>\n",
                            "      <td>5191.0</td>\n",
                            "      <td>no</td>\n",
                            "    </tr>\n",
                            "    <tr>\n",
                            "      <th>2986</th>\n",
                            "      <td>44</td>\n",
                            "      <td>blue-collar</td>\n",
                            "      <td>married</td>\n",
                            "      <td>basic.9y</td>\n",
                            "      <td>unknown</td>\n",
                            "      <td>yes</td>\n",
                            "      <td>no</td>\n",
                            "      <td>telephone</td>\n",
                            "      <td>may</td>\n",
                            "      <td>wed</td>\n",
                            "      <td>...</td>\n",
                            "      <td>2</td>\n",
                            "      <td>999</td>\n",
                            "      <td>0</td>\n",
                            "      <td>nonexistent</td>\n",
                            "      <td>1.1</td>\n",
                            "      <td>93.994</td>\n",
                            "      <td>-36.4</td>\n",
                            "      <td>4.859</td>\n",
                            "      <td>5191.0</td>\n",
                            "      <td>no</td>\n",
                            "    </tr>\n",
                            "    <tr>\n",
                            "      <th>18165</th>\n",
                            "      <td>34</td>\n",
                            "      <td>self-employed</td>\n",
                            "      <td>single</td>\n",
                            "      <td>university.degree</td>\n",
                            "      <td>no</td>\n",
                            "      <td>no</td>\n",
                            "      <td>no</td>\n",
                            "      <td>cellular</td>\n",
                            "      <td>jul</td>\n",
                            "      <td>wed</td>\n",
                            "      <td>...</td>\n",
                            "      <td>1</td>\n",
                            "      <td>999</td>\n",
                            "      <td>0</td>\n",
                            "      <td>nonexistent</td>\n",
                            "      <td>1.4</td>\n",
                            "      <td>93.918</td>\n",
                            "      <td>-42.7</td>\n",
                            "      <td>4.963</td>\n",
                            "      <td>5228.1</td>\n",
                            "      <td>no</td>\n",
                            "    </tr>\n",
                            "    <tr>\n",
                            "      <th>36296</th>\n",
                            "      <td>27</td>\n",
                            "      <td>technician</td>\n",
                            "      <td>married</td>\n",
                            "      <td>professional.course</td>\n",
                            "      <td>no</td>\n",
                            "      <td>yes</td>\n",
                            "      <td>no</td>\n",
                            "      <td>cellular</td>\n",
                            "      <td>jun</td>\n",
                            "      <td>mon</td>\n",
                            "      <td>...</td>\n",
                            "      <td>1</td>\n",
                            "      <td>999</td>\n",
                            "      <td>0</td>\n",
                            "      <td>nonexistent</td>\n",
                            "      <td>-2.9</td>\n",
                            "      <td>92.963</td>\n",
                            "      <td>-40.8</td>\n",
                            "      <td>1.266</td>\n",
                            "      <td>5076.2</td>\n",
                            "      <td>no</td>\n",
                            "    </tr>\n",
                            "    <tr>\n",
                            "      <th>36438</th>\n",
                            "      <td>31</td>\n",
                            "      <td>management</td>\n",
                            "      <td>married</td>\n",
                            "      <td>university.degree</td>\n",
                            "      <td>no</td>\n",
                            "      <td>no</td>\n",
                            "      <td>no</td>\n",
                            "      <td>cellular</td>\n",
                            "      <td>jun</td>\n",
                            "      <td>tue</td>\n",
                            "      <td>...</td>\n",
                            "      <td>1</td>\n",
                            "      <td>999</td>\n",
                            "      <td>0</td>\n",
                            "      <td>nonexistent</td>\n",
                            "      <td>-2.9</td>\n",
                            "      <td>92.963</td>\n",
                            "      <td>-40.8</td>\n",
                            "      <td>1.262</td>\n",
                            "      <td>5076.2</td>\n",
                            "      <td>no</td>\n",
                            "    </tr>\n",
                            "    <tr>\n",
                            "      <th>16052</th>\n",
                            "      <td>27</td>\n",
                            "      <td>services</td>\n",
                            "      <td>single</td>\n",
                            "      <td>high.school</td>\n",
                            "      <td>no</td>\n",
                            "      <td>yes</td>\n",
                            "      <td>no</td>\n",
                            "      <td>cellular</td>\n",
                            "      <td>jul</td>\n",
                            "      <td>tue</td>\n",
                            "      <td>...</td>\n",
                            "      <td>3</td>\n",
                            "      <td>999</td>\n",
                            "      <td>0</td>\n",
                            "      <td>nonexistent</td>\n",
                            "      <td>1.4</td>\n",
                            "      <td>93.918</td>\n",
                            "      <td>-42.7</td>\n",
                            "      <td>4.961</td>\n",
                            "      <td>5228.1</td>\n",
                            "      <td>no</td>\n",
                            "    </tr>\n",
                            "    <tr>\n",
                            "      <th>13324</th>\n",
                            "      <td>45</td>\n",
                            "      <td>self-employed</td>\n",
                            "      <td>married</td>\n",
                            "      <td>basic.9y</td>\n",
                            "      <td>no</td>\n",
                            "      <td>yes</td>\n",
                            "      <td>no</td>\n",
                            "      <td>cellular</td>\n",
                            "      <td>jul</td>\n",
                            "      <td>wed</td>\n",
                            "      <td>...</td>\n",
                            "      <td>1</td>\n",
                            "      <td>999</td>\n",
                            "      <td>0</td>\n",
                            "      <td>nonexistent</td>\n",
                            "      <td>1.4</td>\n",
                            "      <td>93.918</td>\n",
                            "      <td>-42.7</td>\n",
                            "      <td>4.962</td>\n",
                            "      <td>5228.1</td>\n",
                            "      <td>no</td>\n",
                            "    </tr>\n",
                            "    <tr>\n",
                            "      <th>10500</th>\n",
                            "      <td>31</td>\n",
                            "      <td>admin.</td>\n",
                            "      <td>divorced</td>\n",
                            "      <td>high.school</td>\n",
                            "      <td>no</td>\n",
                            "      <td>yes</td>\n",
                            "      <td>yes</td>\n",
                            "      <td>telephone</td>\n",
                            "      <td>jun</td>\n",
                            "      <td>tue</td>\n",
                            "      <td>...</td>\n",
                            "      <td>4</td>\n",
                            "      <td>999</td>\n",
                            "      <td>0</td>\n",
                            "      <td>nonexistent</td>\n",
                            "      <td>1.4</td>\n",
                            "      <td>94.465</td>\n",
                            "      <td>-41.8</td>\n",
                            "      <td>4.961</td>\n",
                            "      <td>5228.1</td>\n",
                            "      <td>no</td>\n",
                            "    </tr>\n",
                            "  </tbody>\n",
                            "</table>\n",
                            "<p>10 rows × 21 columns</p>\n",
                            "</div>"
                        ],
                        "text/plain": [
                            "       age            job   marital            education  default housing  \\\n",
                            "9268    29         admin.   married          high.school       no      no   \n",
                            "40788   50     management   married    university.degree       no      no   \n",
                            "4240    49         admin.  divorced    university.degree       no      no   \n",
                            "2986    44    blue-collar   married             basic.9y  unknown     yes   \n",
                            "18165   34  self-employed    single    university.degree       no      no   \n",
                            "36296   27     technician   married  professional.course       no     yes   \n",
                            "36438   31     management   married    university.degree       no      no   \n",
                            "16052   27       services    single          high.school       no     yes   \n",
                            "13324   45  self-employed   married             basic.9y       no     yes   \n",
                            "10500   31         admin.  divorced          high.school       no     yes   \n",
                            "\n",
                            "      loan    contact month day_of_week  ...  campaign  pdays  previous  \\\n",
                            "9268    no  telephone   jun         fri  ...         4    999         0   \n",
                            "40788   no   cellular   sep         thu  ...         4    999         3   \n",
                            "4240    no  telephone   may         tue  ...         1    999         0   \n",
                            "2986    no  telephone   may         wed  ...         2    999         0   \n",
                            "18165   no   cellular   jul         wed  ...         1    999         0   \n",
                            "36296   no   cellular   jun         mon  ...         1    999         0   \n",
                            "36438   no   cellular   jun         tue  ...         1    999         0   \n",
                            "16052   no   cellular   jul         tue  ...         3    999         0   \n",
                            "13324   no   cellular   jul         wed  ...         1    999         0   \n",
                            "10500  yes  telephone   jun         tue  ...         4    999         0   \n",
                            "\n",
                            "          poutcome emp.var.rate  cons.price.idx  cons.conf.idx  euribor3m  \\\n",
                            "9268   nonexistent          1.4          94.465          -41.8      4.967   \n",
                            "40788      failure         -1.1          94.199          -37.5      0.878   \n",
                            "4240   nonexistent          1.1          93.994          -36.4      4.856   \n",
                            "2986   nonexistent          1.1          93.994          -36.4      4.859   \n",
                            "18165  nonexistent          1.4          93.918          -42.7      4.963   \n",
                            "36296  nonexistent         -2.9          92.963          -40.8      1.266   \n",
                            "36438  nonexistent         -2.9          92.963          -40.8      1.262   \n",
                            "16052  nonexistent          1.4          93.918          -42.7      4.961   \n",
                            "13324  nonexistent          1.4          93.918          -42.7      4.962   \n",
                            "10500  nonexistent          1.4          94.465          -41.8      4.961   \n",
                            "\n",
                            "       nr.employed   y  \n",
                            "9268        5228.1  no  \n",
                            "40788       4963.6  no  \n",
                            "4240        5191.0  no  \n",
                            "2986        5191.0  no  \n",
                            "18165       5228.1  no  \n",
                            "36296       5076.2  no  \n",
                            "36438       5076.2  no  \n",
                            "16052       5228.1  no  \n",
                            "13324       5228.1  no  \n",
                            "10500       5228.1  no  \n",
                            "\n",
                            "[10 rows x 21 columns]"
                        ]
                    },
                    "execution_count": 237,
                    "metadata": {},
                    "output_type": "execute_result"
                }
            ],
            "source": [
                "df.sample(10)"
            ]
        },
        {
            "cell_type": "code",
            "execution_count": 238,
            "metadata": {},
            "outputs": [
                {
                    "name": "stdout",
                    "output_type": "stream",
                    "text": [
                        "<class 'pandas.core.frame.DataFrame'>\n",
                        "RangeIndex: 41188 entries, 0 to 41187\n",
                        "Data columns (total 21 columns):\n",
                        " #   Column          Non-Null Count  Dtype  \n",
                        "---  ------          --------------  -----  \n",
                        " 0   age             41188 non-null  int64  \n",
                        " 1   job             41188 non-null  object \n",
                        " 2   marital         41188 non-null  object \n",
                        " 3   education       41188 non-null  object \n",
                        " 4   default         41188 non-null  object \n",
                        " 5   housing         41188 non-null  object \n",
                        " 6   loan            41188 non-null  object \n",
                        " 7   contact         41188 non-null  object \n",
                        " 8   month           41188 non-null  object \n",
                        " 9   day_of_week     41188 non-null  object \n",
                        " 10  duration        41188 non-null  int64  \n",
                        " 11  campaign        41188 non-null  int64  \n",
                        " 12  pdays           41188 non-null  int64  \n",
                        " 13  previous        41188 non-null  int64  \n",
                        " 14  poutcome        41188 non-null  object \n",
                        " 15  emp.var.rate    41188 non-null  float64\n",
                        " 16  cons.price.idx  41188 non-null  float64\n",
                        " 17  cons.conf.idx   41188 non-null  float64\n",
                        " 18  euribor3m       41188 non-null  float64\n",
                        " 19  nr.employed     41188 non-null  float64\n",
                        " 20  y               41188 non-null  object \n",
                        "dtypes: float64(5), int64(5), object(11)\n",
                        "memory usage: 6.6+ MB\n"
                    ]
                }
            ],
            "source": [
                "df.info()"
            ]
        },
        {
            "cell_type": "markdown",
            "metadata": {},
            "source": [
                "Se observa que el dataset cuenta con 41.188 observaciones y 21 variables. A su vez, no existen valores nulos en el dataset. Con respecto al tipo de dato, se observa que las variables que están como 'objeto' deberían ser 'category'."
            ]
        },
        {
            "cell_type": "code",
            "execution_count": 239,
            "metadata": {},
            "outputs": [],
            "source": [
                "obj=df.select_dtypes('object').columns"
            ]
        },
        {
            "cell_type": "code",
            "execution_count": 240,
            "metadata": {},
            "outputs": [],
            "source": [
                "df[obj]=df[obj].astype('category')"
            ]
        },
        {
            "cell_type": "markdown",
            "metadata": {},
            "source": [
                "**Variables cualitativas**"
            ]
        },
        {
            "cell_type": "code",
            "execution_count": 241,
            "metadata": {},
            "outputs": [
                {
                    "data": {
                        "text/html": [
                            "<div>\n",
                            "<style scoped>\n",
                            "    .dataframe tbody tr th:only-of-type {\n",
                            "        vertical-align: middle;\n",
                            "    }\n",
                            "\n",
                            "    .dataframe tbody tr th {\n",
                            "        vertical-align: top;\n",
                            "    }\n",
                            "\n",
                            "    .dataframe thead th {\n",
                            "        text-align: right;\n",
                            "    }\n",
                            "</style>\n",
                            "<table border=\"1\" class=\"dataframe\">\n",
                            "  <thead>\n",
                            "    <tr style=\"text-align: right;\">\n",
                            "      <th></th>\n",
                            "      <th>job</th>\n",
                            "      <th>marital</th>\n",
                            "      <th>education</th>\n",
                            "      <th>default</th>\n",
                            "      <th>housing</th>\n",
                            "      <th>loan</th>\n",
                            "      <th>contact</th>\n",
                            "      <th>month</th>\n",
                            "      <th>day_of_week</th>\n",
                            "      <th>poutcome</th>\n",
                            "      <th>y</th>\n",
                            "    </tr>\n",
                            "  </thead>\n",
                            "  <tbody>\n",
                            "    <tr>\n",
                            "      <th>count</th>\n",
                            "      <td>41188</td>\n",
                            "      <td>41188</td>\n",
                            "      <td>41188</td>\n",
                            "      <td>41188</td>\n",
                            "      <td>41188</td>\n",
                            "      <td>41188</td>\n",
                            "      <td>41188</td>\n",
                            "      <td>41188</td>\n",
                            "      <td>41188</td>\n",
                            "      <td>41188</td>\n",
                            "      <td>41188</td>\n",
                            "    </tr>\n",
                            "    <tr>\n",
                            "      <th>unique</th>\n",
                            "      <td>12</td>\n",
                            "      <td>4</td>\n",
                            "      <td>8</td>\n",
                            "      <td>3</td>\n",
                            "      <td>3</td>\n",
                            "      <td>3</td>\n",
                            "      <td>2</td>\n",
                            "      <td>10</td>\n",
                            "      <td>5</td>\n",
                            "      <td>3</td>\n",
                            "      <td>2</td>\n",
                            "    </tr>\n",
                            "    <tr>\n",
                            "      <th>top</th>\n",
                            "      <td>admin.</td>\n",
                            "      <td>married</td>\n",
                            "      <td>university.degree</td>\n",
                            "      <td>no</td>\n",
                            "      <td>yes</td>\n",
                            "      <td>no</td>\n",
                            "      <td>cellular</td>\n",
                            "      <td>may</td>\n",
                            "      <td>thu</td>\n",
                            "      <td>nonexistent</td>\n",
                            "      <td>no</td>\n",
                            "    </tr>\n",
                            "    <tr>\n",
                            "      <th>freq</th>\n",
                            "      <td>10422</td>\n",
                            "      <td>24928</td>\n",
                            "      <td>12168</td>\n",
                            "      <td>32588</td>\n",
                            "      <td>21576</td>\n",
                            "      <td>33950</td>\n",
                            "      <td>26144</td>\n",
                            "      <td>13769</td>\n",
                            "      <td>8623</td>\n",
                            "      <td>35563</td>\n",
                            "      <td>36548</td>\n",
                            "    </tr>\n",
                            "  </tbody>\n",
                            "</table>\n",
                            "</div>"
                        ],
                        "text/plain": [
                            "           job  marital          education default housing   loan   contact  \\\n",
                            "count    41188    41188              41188   41188   41188  41188     41188   \n",
                            "unique      12        4                  8       3       3      3         2   \n",
                            "top     admin.  married  university.degree      no     yes     no  cellular   \n",
                            "freq     10422    24928              12168   32588   21576  33950     26144   \n",
                            "\n",
                            "        month day_of_week     poutcome      y  \n",
                            "count   41188       41188        41188  41188  \n",
                            "unique     10           5            3      2  \n",
                            "top       may         thu  nonexistent     no  \n",
                            "freq    13769        8623        35563  36548  "
                        ]
                    },
                    "execution_count": 241,
                    "metadata": {},
                    "output_type": "execute_result"
                }
            ],
            "source": [
                "df.describe(include='category')"
            ]
        },
        {
            "cell_type": "markdown",
            "metadata": {},
            "source": [
                "Del resumen anterior se observa la cantidad de clases que tiene cada variable, la clase que predomina y su frecuencia. Así se puede decir que los clientes que trabajan como administradores, están casados, tienen un grado universitario, no son impagos (default), tienen préstamos hipotecarios pero no tienen personales y fueron contactados un miércoles de mayo, tienen mayor probabilidad de no tener un depósito a plazo.\n",
                "\n",
                "Se explora las categorías de cada variables para luego transformarlas en caso de que sea necesario."
            ]
        },
        {
            "cell_type": "code",
            "execution_count": 242,
            "metadata": {},
            "outputs": [
                {
                    "name": "stdout",
                    "output_type": "stream",
                    "text": [
                        "\n",
                        "Categorias de  job\n",
                        "\n",
                        "admin.           0.253035\n",
                        "blue-collar      0.224677\n",
                        "technician       0.163713\n",
                        "services         0.096363\n",
                        "management       0.070992\n",
                        "retired          0.041760\n",
                        "entrepreneur     0.035350\n",
                        "self-employed    0.034500\n",
                        "housemaid        0.025736\n",
                        "unemployed       0.024619\n",
                        "student          0.021244\n",
                        "unknown          0.008012\n",
                        "Name: job, dtype: float64\n",
                        "\n",
                        "Categorias de  marital\n",
                        "\n",
                        "married     0.605225\n",
                        "single      0.280859\n",
                        "divorced    0.111974\n",
                        "unknown     0.001942\n",
                        "Name: marital, dtype: float64\n",
                        "\n",
                        "Categorias de  education\n",
                        "\n",
                        "university.degree      0.295426\n",
                        "high.school            0.231014\n",
                        "basic.9y               0.146766\n",
                        "professional.course    0.127294\n",
                        "basic.4y               0.101389\n",
                        "basic.6y               0.055647\n",
                        "unknown                0.042027\n",
                        "illiterate             0.000437\n",
                        "Name: education, dtype: float64\n",
                        "\n",
                        "Categorias de  default\n",
                        "\n",
                        "no         0.791201\n",
                        "unknown    0.208726\n",
                        "yes        0.000073\n",
                        "Name: default, dtype: float64\n",
                        "\n",
                        "Categorias de  housing\n",
                        "\n",
                        "yes        0.523842\n",
                        "no         0.452122\n",
                        "unknown    0.024036\n",
                        "Name: housing, dtype: float64\n",
                        "\n",
                        "Categorias de  loan\n",
                        "\n",
                        "no         0.824269\n",
                        "yes        0.151695\n",
                        "unknown    0.024036\n",
                        "Name: loan, dtype: float64\n",
                        "\n",
                        "Categorias de  contact\n",
                        "\n",
                        "cellular     0.634748\n",
                        "telephone    0.365252\n",
                        "Name: contact, dtype: float64\n",
                        "\n",
                        "Categorias de  month\n",
                        "\n",
                        "may    0.334296\n",
                        "jul    0.174177\n",
                        "aug    0.149995\n",
                        "jun    0.129115\n",
                        "nov    0.099568\n",
                        "apr    0.063902\n",
                        "oct    0.017432\n",
                        "sep    0.013839\n",
                        "mar    0.013256\n",
                        "dec    0.004419\n",
                        "Name: month, dtype: float64\n",
                        "\n",
                        "Categorias de  day_of_week\n",
                        "\n",
                        "thu    0.209357\n",
                        "mon    0.206711\n",
                        "wed    0.197485\n",
                        "tue    0.196416\n",
                        "fri    0.190031\n",
                        "Name: day_of_week, dtype: float64\n",
                        "\n",
                        "Categorias de  poutcome\n",
                        "\n",
                        "nonexistent    0.863431\n",
                        "failure        0.103234\n",
                        "success        0.033335\n",
                        "Name: poutcome, dtype: float64\n",
                        "\n",
                        "Categorias de  y\n",
                        "\n",
                        "no     0.887346\n",
                        "yes    0.112654\n",
                        "Name: y, dtype: float64\n"
                    ]
                }
            ],
            "source": [
                "for i in df.select_dtypes('category'):\n",
                "    print('')\n",
                "    print('Categorias de ',i)\n",
                "    print('')\n",
                "    print(df[i].value_counts(normalize=True))"
            ]
        },
        {
            "cell_type": "markdown",
            "metadata": {},
            "source": [
                "Se observa que algunas variables continene categorías 'unknow' que no aportan información y se pueden interpretar como valores faltantes. En el paso siguiente se dará un tratamiento a éstas categorías de manera de que las observaciones se puedan utilizar.\n",
                "\n",
                "Con respecto a la variable objetivo 'y' se observa que un 89% de la muestra refiere a clientes que no han realizado un depósito a plazo, mientras que un 11% si lo han hecho."
            ]
        },
        {
            "cell_type": "code",
            "execution_count": 243,
            "metadata": {},
            "outputs": [
                {
                    "data": {
                        "image/png": "[encoded data removed]",
                        "text/plain": [
                            "<Figure size 432x288 with 1 Axes>"
                        ]
                    },
                    "metadata": {
                        "needs_background": "light"
                    },
                    "output_type": "display_data"
                }
            ],
            "source": [
                "df['y'].value_counts().plot(kind='bar',title='Cantidad de clientes según tienen o no depósito a plazo',ylabel='Cantidad')\n",
                "plt.show()"
            ]
        },
        {
            "cell_type": "markdown",
            "metadata": {},
            "source": [
                "Al momento de seleccionar la muestra para entrenar el modelo se debe considerar que la muestra original se encuentra desbalanceada para que no genere un sesgo hacia el 'no' simplemente porque prepondera en los datos utilizados. "
            ]
        },
        {
            "cell_type": "markdown",
            "metadata": {},
            "source": [
                "**Variables cuantitativas**"
            ]
        },
        {
            "cell_type": "code",
            "execution_count": 244,
            "metadata": {},
            "outputs": [
                {
                    "data": {
                        "text/html": [
                            "<div>\n",
                            "<style scoped>\n",
                            "    .dataframe tbody tr th:only-of-type {\n",
                            "        vertical-align: middle;\n",
                            "    }\n",
                            "\n",
                            "    .dataframe tbody tr th {\n",
                            "        vertical-align: top;\n",
                            "    }\n",
                            "\n",
                            "    .dataframe thead th {\n",
                            "        text-align: right;\n",
                            "    }\n",
                            "</style>\n",
                            "<table border=\"1\" class=\"dataframe\">\n",
                            "  <thead>\n",
                            "    <tr style=\"text-align: right;\">\n",
                            "      <th></th>\n",
                            "      <th>age</th>\n",
                            "      <th>duration</th>\n",
                            "      <th>campaign</th>\n",
                            "      <th>pdays</th>\n",
                            "      <th>previous</th>\n",
                            "      <th>emp.var.rate</th>\n",
                            "      <th>cons.price.idx</th>\n",
                            "      <th>cons.conf.idx</th>\n",
                            "      <th>euribor3m</th>\n",
                            "      <th>nr.employed</th>\n",
                            "    </tr>\n",
                            "  </thead>\n",
                            "  <tbody>\n",
                            "    <tr>\n",
                            "      <th>count</th>\n",
                            "      <td>41188.00</td>\n",
                            "      <td>41188.00</td>\n",
                            "      <td>41188.00</td>\n",
                            "      <td>41188.00</td>\n",
                            "      <td>41188.00</td>\n",
                            "      <td>41188.00</td>\n",
                            "      <td>41188.00</td>\n",
                            "      <td>41188.00</td>\n",
                            "      <td>41188.00</td>\n",
                            "      <td>41188.00</td>\n",
                            "    </tr>\n",
                            "    <tr>\n",
                            "      <th>mean</th>\n",
                            "      <td>40.02</td>\n",
                            "      <td>258.29</td>\n",
                            "      <td>2.57</td>\n",
                            "      <td>962.48</td>\n",
                            "      <td>0.17</td>\n",
                            "      <td>0.08</td>\n",
                            "      <td>93.58</td>\n",
                            "      <td>-40.50</td>\n",
                            "      <td>3.62</td>\n",
                            "      <td>5167.04</td>\n",
                            "    </tr>\n",
                            "    <tr>\n",
                            "      <th>std</th>\n",
                            "      <td>10.42</td>\n",
                            "      <td>259.28</td>\n",
                            "      <td>2.77</td>\n",
                            "      <td>186.91</td>\n",
                            "      <td>0.49</td>\n",
                            "      <td>1.57</td>\n",
                            "      <td>0.58</td>\n",
                            "      <td>4.63</td>\n",
                            "      <td>1.73</td>\n",
                            "      <td>72.25</td>\n",
                            "    </tr>\n",
                            "    <tr>\n",
                            "      <th>min</th>\n",
                            "      <td>17.00</td>\n",
                            "      <td>0.00</td>\n",
                            "      <td>1.00</td>\n",
                            "      <td>0.00</td>\n",
                            "      <td>0.00</td>\n",
                            "      <td>-3.40</td>\n",
                            "      <td>92.20</td>\n",
                            "      <td>-50.80</td>\n",
                            "      <td>0.63</td>\n",
                            "      <td>4963.60</td>\n",
                            "    </tr>\n",
                            "    <tr>\n",
                            "      <th>25%</th>\n",
                            "      <td>32.00</td>\n",
                            "      <td>102.00</td>\n",
                            "      <td>1.00</td>\n",
                            "      <td>999.00</td>\n",
                            "      <td>0.00</td>\n",
                            "      <td>-1.80</td>\n",
                            "      <td>93.08</td>\n",
                            "      <td>-42.70</td>\n",
                            "      <td>1.34</td>\n",
                            "      <td>5099.10</td>\n",
                            "    </tr>\n",
                            "    <tr>\n",
                            "      <th>50%</th>\n",
                            "      <td>38.00</td>\n",
                            "      <td>180.00</td>\n",
                            "      <td>2.00</td>\n",
                            "      <td>999.00</td>\n",
                            "      <td>0.00</td>\n",
                            "      <td>1.10</td>\n",
                            "      <td>93.75</td>\n",
                            "      <td>-41.80</td>\n",
                            "      <td>4.86</td>\n",
                            "      <td>5191.00</td>\n",
                            "    </tr>\n",
                            "    <tr>\n",
                            "      <th>75%</th>\n",
                            "      <td>47.00</td>\n",
                            "      <td>319.00</td>\n",
                            "      <td>3.00</td>\n",
                            "      <td>999.00</td>\n",
                            "      <td>0.00</td>\n",
                            "      <td>1.40</td>\n",
                            "      <td>93.99</td>\n",
                            "      <td>-36.40</td>\n",
                            "      <td>4.96</td>\n",
                            "      <td>5228.10</td>\n",
                            "    </tr>\n",
                            "    <tr>\n",
                            "      <th>max</th>\n",
                            "      <td>98.00</td>\n",
                            "      <td>4918.00</td>\n",
                            "      <td>56.00</td>\n",
                            "      <td>999.00</td>\n",
                            "      <td>7.00</td>\n",
                            "      <td>1.40</td>\n",
                            "      <td>94.77</td>\n",
                            "      <td>-26.90</td>\n",
                            "      <td>5.04</td>\n",
                            "      <td>5228.10</td>\n",
                            "    </tr>\n",
                            "  </tbody>\n",
                            "</table>\n",
                            "</div>"
                        ],
                        "text/plain": [
                            "            age  duration  campaign     pdays  previous  emp.var.rate  \\\n",
                            "count  41188.00  41188.00  41188.00  41188.00  41188.00      41188.00   \n",
                            "mean      40.02    258.29      2.57    962.48      0.17          0.08   \n",
                            "std       10.42    259.28      2.77    186.91      0.49          1.57   \n",
                            "min       17.00      0.00      1.00      0.00      0.00         -3.40   \n",
                            "25%       32.00    102.00      1.00    999.00      0.00         -1.80   \n",
                            "50%       38.00    180.00      2.00    999.00      0.00          1.10   \n",
                            "75%       47.00    319.00      3.00    999.00      0.00          1.40   \n",
                            "max       98.00   4918.00     56.00    999.00      7.00          1.40   \n",
                            "\n",
                            "       cons.price.idx  cons.conf.idx  euribor3m  nr.employed  \n",
                            "count        41188.00       41188.00   41188.00     41188.00  \n",
                            "mean            93.58         -40.50       3.62      5167.04  \n",
                            "std              0.58           4.63       1.73        72.25  \n",
                            "min             92.20         -50.80       0.63      4963.60  \n",
                            "25%             93.08         -42.70       1.34      5099.10  \n",
                            "50%             93.75         -41.80       4.86      5191.00  \n",
                            "75%             93.99         -36.40       4.96      5228.10  \n",
                            "max             94.77         -26.90       5.04      5228.10  "
                        ]
                    },
                    "execution_count": 244,
                    "metadata": {},
                    "output_type": "execute_result"
                }
            ],
            "source": [
                "round(df.describe(include=['int','float64']),2)"
            ]
        },
        {
            "cell_type": "code",
            "execution_count": 245,
            "metadata": {},
            "outputs": [
                {
                    "data": {
                        "text/plain": [
                            "96"
                        ]
                    },
                    "execution_count": 245,
                    "metadata": {},
                    "output_type": "execute_result"
                }
            ],
            "source": [
                "round(sum(df['pdays']==999)/len(df)*100)"
            ]
        },
        {
            "cell_type": "markdown",
            "metadata": {},
            "source": [
                "Lo primero que se observa es que la variable pdays tiene un valor 999 que refiere a clientes que no fueron contactados en campañas anteriores. Si bien el 96% de la muestra nunca fue contactada, al ser una variable numérica, el modelo lo va a interpretar como contactos realizados hace 999 días. Para que no genere problemas en el modelado se decide darle un tratamiento, transformandola en una variable binaria indicando si fue contactado o no en campañas anteriores."
            ]
        },
        {
            "cell_type": "code",
            "execution_count": 246,
            "metadata": {},
            "outputs": [
                {
                    "data": {
                        "text/plain": [
                            "no     39673\n",
                            "yes     1515\n",
                            "Name: pdays, dtype: int64"
                        ]
                    },
                    "execution_count": 246,
                    "metadata": {},
                    "output_type": "execute_result"
                }
            ],
            "source": [
                "df['pdays']=['no' if i==999 else 'yes' for i in df['pdays']]\n",
                "df['pdays']=df['pdays'].astype('category')\n",
                "df['pdays'].value_counts()"
            ]
        },
        {
            "cell_type": "markdown",
            "metadata": {},
            "source": [
                "A simple vista se observa que en algunas variables distan mucho el 1er cuartil del minimo y/o el 3er cuartil del valor máximo, lo que llama la atención. A continuación se observa cuántas casos existen de este tipo."
            ]
        },
        {
            "cell_type": "code",
            "execution_count": 247,
            "metadata": {},
            "outputs": [
                {
                    "name": "stdout",
                    "output_type": "stream",
                    "text": [
                        "Variable  age\n",
                        "Existen 0 posibles outliers en la cola izquierda\n",
                        "Existen 469 posibles outliers en la cola derecha\n",
                        "Variable  duration\n",
                        "Existen 0 posibles outliers en la cola izquierda\n",
                        "Existen 2963 posibles outliers en la cola derecha\n",
                        "Variable  campaign\n",
                        "Existen 0 posibles outliers en la cola izquierda\n",
                        "Existen 2406 posibles outliers en la cola derecha\n",
                        "Variable  previous\n",
                        "Existen 0 posibles outliers en la cola izquierda\n",
                        "Existen 5625 posibles outliers en la cola derecha\n",
                        "Variable  emp.var.rate\n",
                        "Existen 0 posibles outliers en la cola izquierda\n",
                        "Existen 0 posibles outliers en la cola derecha\n",
                        "Variable  cons.price.idx\n",
                        "Existen 0 posibles outliers en la cola izquierda\n",
                        "Existen 0 posibles outliers en la cola derecha\n",
                        "Variable  cons.conf.idx\n",
                        "Existen 0 posibles outliers en la cola izquierda\n",
                        "Existen 447 posibles outliers en la cola derecha\n",
                        "Variable  euribor3m\n",
                        "Existen 0 posibles outliers en la cola izquierda\n",
                        "Existen 0 posibles outliers en la cola derecha\n",
                        "Variable  nr.employed\n",
                        "Existen 0 posibles outliers en la cola izquierda\n",
                        "Existen 0 posibles outliers en la cola derecha\n"
                    ]
                }
            ],
            "source": [
                "dic_min={}\n",
                "dic_max={}\n",
                "\n",
                "for i in df.select_dtypes(['float64','int']):\n",
                "    q3, q1 = np.percentile(df[i], [75,25])\n",
                "    IQR=q3-q1\n",
                "    dic_min[i]=q1-IQR*1.5\n",
                "    dic_max[i]=q3+IQR*1.5\n",
                "    print('Variable ',i)\n",
                "    print('Existen', sum(df[i]<q1-IQR*1.5), 'posibles outliers en la cola izquierda') \n",
                "    print('Existen', sum(df[i]>q3+IQR*1.5), 'posibles outliers en la cola derecha')"
            ]
        },
        {
            "cell_type": "markdown",
            "metadata": {},
            "source": [
                "Las variables que tienen posibles outliers son age, duration, campaign, previous y cons.conf.idx."
            ]
        },
        {
            "cell_type": "code",
            "execution_count": 248,
            "metadata": {},
            "outputs": [
                {
                    "data": {
                        "image/png": "[encoded data removed]",
                        "text/plain": [
                            "<Figure size 432x288 with 1 Axes>"
                        ]
                    },
                    "metadata": {
                        "needs_background": "light"
                    },
                    "output_type": "display_data"
                },
                {
                    "data": {
                        "image/png": "[encoded data removed]",
                        "text/plain": [
                            "<Figure size 432x288 with 1 Axes>"
                        ]
                    },
                    "metadata": {
                        "needs_background": "light"
                    },
                    "output_type": "display_data"
                },
                {
                    "data": {
                        "image/png": "[encoded data removed]",
                        "text/plain": [
                            "<Figure size 432x288 with 1 Axes>"
                        ]
                    },
                    "metadata": {
                        "needs_background": "light"
                    },
                    "output_type": "display_data"
                },
                {
                    "data": {
                        "image/png": "[encoded data removed]",
                        "text/plain": [
                            "<Figure size 432x288 with 1 Axes>"
                        ]
                    },
                    "metadata": {
                        "needs_background": "light"
                    },
                    "output_type": "display_data"
                },
                {
                    "data": {
                        "image/png": "[encoded data removed]",
                        "text/plain": [
                            "<Figure size 432x288 with 1 Axes>"
                        ]
                    },
                    "metadata": {
                        "needs_background": "light"
                    },
                    "output_type": "display_data"
                }
            ],
            "source": [
                "for i in ['age','duration','campaign','previous','cons.conf.idx']:\n",
                "    df[[i]].boxplot()\n",
                "    plt.show()"
            ]
        },
        {
            "cell_type": "code",
            "execution_count": 249,
            "metadata": {},
            "outputs": [
                {
                    "data": {
                        "image/png": "[encoded data removed]",
                        "text/plain": [
                            "<Figure size 432x288 with 1 Axes>"
                        ]
                    },
                    "metadata": {
                        "needs_background": "light"
                    },
                    "output_type": "display_data"
                },
                {
                    "data": {
                        "image/png": "[encoded data removed]",
                        "text/plain": [
                            "<Figure size 432x288 with 1 Axes>"
                        ]
                    },
                    "metadata": {
                        "needs_background": "light"
                    },
                    "output_type": "display_data"
                },
                {
                    "data": {
                        "image/png": "[encoded data removed]",
                        "text/plain": [
                            "<Figure size 432x288 with 1 Axes>"
                        ]
                    },
                    "metadata": {
                        "needs_background": "light"
                    },
                    "output_type": "display_data"
                },
                {
                    "data": {
                        "image/png": "[encoded data removed]",
                        "text/plain": [
                            "<Figure size 432x288 with 1 Axes>"
                        ]
                    },
                    "metadata": {
                        "needs_background": "light"
                    },
                    "output_type": "display_data"
                },
                {
                    "data": {
                        "image/png": "[encoded data removed]",
                        "text/plain": [
                            "<Figure size 432x288 with 1 Axes>"
                        ]
                    },
                    "metadata": {
                        "needs_background": "light"
                    },
                    "output_type": "display_data"
                }
            ],
            "source": [
                "for i in ['age','duration','campaign','previous','cons.conf.idx']:\n",
                "    df[[i]].hist()\n",
                "    plt.show()"
            ]
        },
        {
            "cell_type": "markdown",
            "metadata": {},
            "source": [
                "Si bien considerando la técnica de detección de outliers utilizando el Rango Intercuartilico indicaría que existen datos atípico para éstas variables, se debe considerar que ésta técnica toma como supuesto que las variables se distribuyen de manera normal estándar, sin embargo visualmente no parecerían comportarse de ésta manera. Además si se analiza conceptualmente el rango de valores de las distintas variables, no parecerían ser tan anormales, sino que podrían deberse a una gran dispersión de los mismos. Al mismo tiempo, el comportamiento de la variable 'age' seguramente se deba a un tema generacional, no a un error en la muestra. Lo que se podría hacer en este caso es considerar distintos rangos etareos para la predicción ya que cada uno se comportará distinto.\n",
                "\n",
                "En conslusión, se decide no eliminar ningún dato por concepto de outliers. Solo a modo ilustrativo se deja planteado el código del procedimiento que se habría realizado."
            ]
        },
        {
            "cell_type": "code",
            "execution_count": 250,
            "metadata": {},
            "outputs": [],
            "source": [
                "#for i in ['duration','campaign','cons.conf.idx']:\n",
                " #   df=df[(df[i]> dic_min[i]) & (df[i]<dic_max[i])]\n",
                "  #  df.reset_index(inplace=True,drop=True)"
            ]
        },
        {
            "cell_type": "markdown",
            "metadata": {},
            "source": [
                "\n",
                "A continuación se observa si existen lineas repetidas en el dataset."
            ]
        },
        {
            "cell_type": "code",
            "execution_count": 251,
            "metadata": {},
            "outputs": [
                {
                    "name": "stdout",
                    "output_type": "stream",
                    "text": [
                        "Existen  12 registros repetidos, se eliminan de la base de datos para que no interfieran en la predicción. Finalmente el dataset contiene  41176  registros únicos.\n"
                    ]
                }
            ],
            "source": [
                "print('Existen ', df.duplicated().sum(),'registros repetidos, se eliminan de la base de datos para que no interfieran en la predicción. Finalmente el dataset contiene ', len(df.drop_duplicates()),' registros únicos.')\n",
                "\n",
                "df=df.drop_duplicates()"
            ]
        },
        {
            "cell_type": "markdown",
            "metadata": {},
            "source": [
                "### Paso 3 : Preprocesamiento de la base de datos"
            ]
        },
        {
            "cell_type": "markdown",
            "metadata": {},
            "source": [
                "**Variables cualitativas**\n",
                "\n",
                "Del análisis anterior se detectó que existen algunas categorías 'unknown' las cuales se deben imputar antes de realizar el modelo de clasificación. A continuación se seleccionan las variables que tienen ésta categoría y luego se sustituye por la moda. "
            ]
        },
        {
            "cell_type": "code",
            "execution_count": 252,
            "metadata": {},
            "outputs": [
                {
                    "name": "stdout",
                    "output_type": "stream",
                    "text": [
                        "['job', 'marital', 'education', 'default', 'housing', 'loan']\n"
                    ]
                }
            ],
            "source": [
                "uk=[]\n",
                "for i in df:\n",
                "    [uk.append(i) for n in df[i].unique() if n=='unknown']\n",
                "\n",
                "print(uk)"
            ]
        },
        {
            "cell_type": "code",
            "execution_count": 253,
            "metadata": {},
            "outputs": [],
            "source": [
                "for i in uk:\n",
                "    df=df.replace({i:'unknown'}, df[i].mode()[0]) \n",
                "\n",
                "# Control\n",
                "#uk=[]\n",
                "#for i in df:\n",
                " #   [uk.append(i) for n in df[i].unique() if n=='unknown']\n",
                "\n",
                "#print(uk)"
            ]
        },
        {
            "cell_type": "code",
            "execution_count": 254,
            "metadata": {},
            "outputs": [
                {
                    "data": {
                        "text/html": [
                            "<div>\n",
                            "<style scoped>\n",
                            "    .dataframe tbody tr th:only-of-type {\n",
                            "        vertical-align: middle;\n",
                            "    }\n",
                            "\n",
                            "    .dataframe tbody tr th {\n",
                            "        vertical-align: top;\n",
                            "    }\n",
                            "\n",
                            "    .dataframe thead th {\n",
                            "        text-align: right;\n",
                            "    }\n",
                            "</style>\n",
                            "<table border=\"1\" class=\"dataframe\">\n",
                            "  <thead>\n",
                            "    <tr style=\"text-align: right;\">\n",
                            "      <th></th>\n",
                            "      <th>job</th>\n",
                            "      <th>marital</th>\n",
                            "      <th>education</th>\n",
                            "      <th>default</th>\n",
                            "      <th>housing</th>\n",
                            "      <th>loan</th>\n",
                            "      <th>contact</th>\n",
                            "      <th>month</th>\n",
                            "      <th>day_of_week</th>\n",
                            "      <th>pdays</th>\n",
                            "      <th>poutcome</th>\n",
                            "      <th>y</th>\n",
                            "    </tr>\n",
                            "  </thead>\n",
                            "  <tbody>\n",
                            "    <tr>\n",
                            "      <th>count</th>\n",
                            "      <td>41176</td>\n",
                            "      <td>41176</td>\n",
                            "      <td>41176</td>\n",
                            "      <td>41176</td>\n",
                            "      <td>41176</td>\n",
                            "      <td>41176</td>\n",
                            "      <td>41176</td>\n",
                            "      <td>41176</td>\n",
                            "      <td>41176</td>\n",
                            "      <td>41176</td>\n",
                            "      <td>41176</td>\n",
                            "      <td>41176</td>\n",
                            "    </tr>\n",
                            "    <tr>\n",
                            "      <th>unique</th>\n",
                            "      <td>11</td>\n",
                            "      <td>3</td>\n",
                            "      <td>7</td>\n",
                            "      <td>2</td>\n",
                            "      <td>2</td>\n",
                            "      <td>2</td>\n",
                            "      <td>2</td>\n",
                            "      <td>10</td>\n",
                            "      <td>5</td>\n",
                            "      <td>2</td>\n",
                            "      <td>3</td>\n",
                            "      <td>2</td>\n",
                            "    </tr>\n",
                            "    <tr>\n",
                            "      <th>top</th>\n",
                            "      <td>admin.</td>\n",
                            "      <td>married</td>\n",
                            "      <td>university.degree</td>\n",
                            "      <td>no</td>\n",
                            "      <td>yes</td>\n",
                            "      <td>no</td>\n",
                            "      <td>cellular</td>\n",
                            "      <td>may</td>\n",
                            "      <td>thu</td>\n",
                            "      <td>no</td>\n",
                            "      <td>nonexistent</td>\n",
                            "      <td>no</td>\n",
                            "    </tr>\n",
                            "    <tr>\n",
                            "      <th>freq</th>\n",
                            "      <td>10749</td>\n",
                            "      <td>25001</td>\n",
                            "      <td>13894</td>\n",
                            "      <td>41173</td>\n",
                            "      <td>22561</td>\n",
                            "      <td>34928</td>\n",
                            "      <td>26135</td>\n",
                            "      <td>13767</td>\n",
                            "      <td>8618</td>\n",
                            "      <td>39661</td>\n",
                            "      <td>35551</td>\n",
                            "      <td>36537</td>\n",
                            "    </tr>\n",
                            "  </tbody>\n",
                            "</table>\n",
                            "</div>"
                        ],
                        "text/plain": [
                            "           job  marital          education default housing   loan   contact  \\\n",
                            "count    41176    41176              41176   41176   41176  41176     41176   \n",
                            "unique      11        3                  7       2       2      2         2   \n",
                            "top     admin.  married  university.degree      no     yes     no  cellular   \n",
                            "freq     10749    25001              13894   41173   22561  34928     26135   \n",
                            "\n",
                            "        month day_of_week  pdays     poutcome      y  \n",
                            "count   41176       41176  41176        41176  41176  \n",
                            "unique     10           5      2            3      2  \n",
                            "top       may         thu     no  nonexistent     no  \n",
                            "freq    13767        8618  39661        35551  36537  "
                        ]
                    },
                    "execution_count": 254,
                    "metadata": {},
                    "output_type": "execute_result"
                }
            ],
            "source": [
                "df.describe(include='category')"
            ]
        },
        {
            "cell_type": "markdown",
            "metadata": {},
            "source": [
                "Luego de asignarle la moda a las categorias 'unknown', se observa que la cantidad de categorías disminuye en una pero el valor más frecuente ('top') se mantiene, como era de esperar."
            ]
        },
        {
            "cell_type": "markdown",
            "metadata": {},
            "source": [
                "A continuación se sustituyen las categorías 'basic.9y','basic.6y','basic4y' de la variable education a 'middle_school'."
            ]
        },
        {
            "cell_type": "code",
            "execution_count": 255,
            "metadata": {},
            "outputs": [
                {
                    "data": {
                        "text/plain": [
                            "university.degree      13894\n",
                            "middle_school          12512\n",
                            "high.school             9512\n",
                            "professional.course     5240\n",
                            "illiterate                18\n",
                            "Name: education, dtype: int64"
                        ]
                    },
                    "execution_count": 255,
                    "metadata": {},
                    "output_type": "execute_result"
                }
            ],
            "source": [
                "df=df.replace({'education':['basic.9y','basic.6y','basic.4y']}, 'middle_school')\n",
                "df['education'].value_counts()"
            ]
        },
        {
            "cell_type": "markdown",
            "metadata": {},
            "source": [
                "Se divide en rangos la variable 'age' en linea a lo planteado con anterioridad."
            ]
        },
        {
            "cell_type": "code",
            "execution_count": 256,
            "metadata": {},
            "outputs": [],
            "source": [
                "df['age_rang']=pd.cut(df['age'],bins=[10,20,30,40,50,60,70,80,90,100])\n",
                "df['age_rang']=df['age_rang'].astype('category')"
            ]
        },
        {
            "cell_type": "code",
            "execution_count": 257,
            "metadata": {},
            "outputs": [
                {
                    "data": {
                        "text/plain": [
                            "(30, 40]     16380\n",
                            "(40, 50]     10237\n",
                            "(20, 30]      7241\n",
                            "(50, 60]      6269\n",
                            "(60, 70]       488\n",
                            "(70, 80]       302\n",
                            "(10, 20]       140\n",
                            "(80, 90]       109\n",
                            "(90, 100]       10\n",
                            "Name: age_rang, dtype: int64"
                        ]
                    },
                    "execution_count": 257,
                    "metadata": {},
                    "output_type": "execute_result"
                }
            ],
            "source": [
                "df['age_rang'].value_counts()"
            ]
        },
        {
            "cell_type": "markdown",
            "metadata": {},
            "source": [
                "**Encoding**"
            ]
        },
        {
            "cell_type": "markdown",
            "metadata": {},
            "source": [
                "Hot encoding: se aplica a las variables categoricas que pueden ser utilizadas como features.\n",
                "\n",
                "Label encoding: se aplica a la variable target."
            ]
        },
        {
            "cell_type": "code",
            "execution_count": 258,
            "metadata": {},
            "outputs": [],
            "source": [
                "he=df.select_dtypes('category').drop(columns=['y']).columns"
            ]
        },
        {
            "cell_type": "code",
            "execution_count": 259,
            "metadata": {},
            "outputs": [],
            "source": [
                "df_cod=pd.get_dummies(df,columns=he)"
            ]
        },
        {
            "cell_type": "code",
            "execution_count": 260,
            "metadata": {},
            "outputs": [],
            "source": [
                "df_cod['y']=df.y.cat.codes"
            ]
        },
        {
            "cell_type": "code",
            "execution_count": 261,
            "metadata": {},
            "outputs": [
                {
                    "name": "stdout",
                    "output_type": "stream",
                    "text": [
                        "<class 'pandas.core.frame.DataFrame'>\n",
                        "Int64Index: 41176 entries, 0 to 41187\n",
                        "Data columns (total 66 columns):\n",
                        " #   Column                         Non-Null Count  Dtype  \n",
                        "---  ------                         --------------  -----  \n",
                        " 0   age                            41176 non-null  int64  \n",
                        " 1   duration                       41176 non-null  int64  \n",
                        " 2   campaign                       41176 non-null  int64  \n",
                        " 3   previous                       41176 non-null  int64  \n",
                        " 4   emp.var.rate                   41176 non-null  float64\n",
                        " 5   cons.price.idx                 41176 non-null  float64\n",
                        " 6   cons.conf.idx                  41176 non-null  float64\n",
                        " 7   euribor3m                      41176 non-null  float64\n",
                        " 8   nr.employed                    41176 non-null  float64\n",
                        " 9   y                              41176 non-null  int8   \n",
                        " 10  job_admin.                     41176 non-null  uint8  \n",
                        " 11  job_blue-collar                41176 non-null  uint8  \n",
                        " 12  job_entrepreneur               41176 non-null  uint8  \n",
                        " 13  job_housemaid                  41176 non-null  uint8  \n",
                        " 14  job_management                 41176 non-null  uint8  \n",
                        " 15  job_retired                    41176 non-null  uint8  \n",
                        " 16  job_self-employed              41176 non-null  uint8  \n",
                        " 17  job_services                   41176 non-null  uint8  \n",
                        " 18  job_student                    41176 non-null  uint8  \n",
                        " 19  job_technician                 41176 non-null  uint8  \n",
                        " 20  job_unemployed                 41176 non-null  uint8  \n",
                        " 21  marital_divorced               41176 non-null  uint8  \n",
                        " 22  marital_married                41176 non-null  uint8  \n",
                        " 23  marital_single                 41176 non-null  uint8  \n",
                        " 24  education_middle_school        41176 non-null  uint8  \n",
                        " 25  education_high.school          41176 non-null  uint8  \n",
                        " 26  education_illiterate           41176 non-null  uint8  \n",
                        " 27  education_professional.course  41176 non-null  uint8  \n",
                        " 28  education_university.degree    41176 non-null  uint8  \n",
                        " 29  default_no                     41176 non-null  uint8  \n",
                        " 30  default_yes                    41176 non-null  uint8  \n",
                        " 31  housing_no                     41176 non-null  uint8  \n",
                        " 32  housing_yes                    41176 non-null  uint8  \n",
                        " 33  loan_no                        41176 non-null  uint8  \n",
                        " 34  loan_yes                       41176 non-null  uint8  \n",
                        " 35  contact_cellular               41176 non-null  uint8  \n",
                        " 36  contact_telephone              41176 non-null  uint8  \n",
                        " 37  month_apr                      41176 non-null  uint8  \n",
                        " 38  month_aug                      41176 non-null  uint8  \n",
                        " 39  month_dec                      41176 non-null  uint8  \n",
                        " 40  month_jul                      41176 non-null  uint8  \n",
                        " 41  month_jun                      41176 non-null  uint8  \n",
                        " 42  month_mar                      41176 non-null  uint8  \n",
                        " 43  month_may                      41176 non-null  uint8  \n",
                        " 44  month_nov                      41176 non-null  uint8  \n",
                        " 45  month_oct                      41176 non-null  uint8  \n",
                        " 46  month_sep                      41176 non-null  uint8  \n",
                        " 47  day_of_week_fri                41176 non-null  uint8  \n",
                        " 48  day_of_week_mon                41176 non-null  uint8  \n",
                        " 49  day_of_week_thu                41176 non-null  uint8  \n",
                        " 50  day_of_week_tue                41176 non-null  uint8  \n",
                        " 51  day_of_week_wed                41176 non-null  uint8  \n",
                        " 52  pdays_no                       41176 non-null  uint8  \n",
                        " 53  pdays_yes                      41176 non-null  uint8  \n",
                        " 54  poutcome_failure               41176 non-null  uint8  \n",
                        " 55  poutcome_nonexistent           41176 non-null  uint8  \n",
                        " 56  poutcome_success               41176 non-null  uint8  \n",
                        " 57  age_rang_(10, 20]              41176 non-null  uint8  \n",
                        " 58  age_rang_(20, 30]              41176 non-null  uint8  \n",
                        " 59  age_rang_(30, 40]              41176 non-null  uint8  \n",
                        " 60  age_rang_(40, 50]              41176 non-null  uint8  \n",
                        " 61  age_rang_(50, 60]              41176 non-null  uint8  \n",
                        " 62  age_rang_(60, 70]              41176 non-null  uint8  \n",
                        " 63  age_rang_(70, 80]              41176 non-null  uint8  \n",
                        " 64  age_rang_(80, 90]              41176 non-null  uint8  \n",
                        " 65  age_rang_(90, 100]             41176 non-null  uint8  \n",
                        "dtypes: float64(5), int64(4), int8(1), uint8(56)\n",
                        "memory usage: 5.4 MB\n"
                    ]
                }
            ],
            "source": [
                "df_cod.info()"
            ]
        },
        {
            "cell_type": "code",
            "execution_count": 262,
            "metadata": {},
            "outputs": [
                {
                    "data": {
                        "text/html": [
                            "<div>\n",
                            "<style scoped>\n",
                            "    .dataframe tbody tr th:only-of-type {\n",
                            "        vertical-align: middle;\n",
                            "    }\n",
                            "\n",
                            "    .dataframe tbody tr th {\n",
                            "        vertical-align: top;\n",
                            "    }\n",
                            "\n",
                            "    .dataframe thead th {\n",
                            "        text-align: right;\n",
                            "    }\n",
                            "</style>\n",
                            "<table border=\"1\" class=\"dataframe\">\n",
                            "  <thead>\n",
                            "    <tr style=\"text-align: right;\">\n",
                            "      <th></th>\n",
                            "      <th>age</th>\n",
                            "      <th>duration</th>\n",
                            "      <th>campaign</th>\n",
                            "      <th>previous</th>\n",
                            "      <th>emp.var.rate</th>\n",
                            "      <th>cons.price.idx</th>\n",
                            "      <th>cons.conf.idx</th>\n",
                            "      <th>euribor3m</th>\n",
                            "      <th>nr.employed</th>\n",
                            "      <th>y</th>\n",
                            "      <th>...</th>\n",
                            "      <th>poutcome_success</th>\n",
                            "      <th>age_rang_(10, 20]</th>\n",
                            "      <th>age_rang_(20, 30]</th>\n",
                            "      <th>age_rang_(30, 40]</th>\n",
                            "      <th>age_rang_(40, 50]</th>\n",
                            "      <th>age_rang_(50, 60]</th>\n",
                            "      <th>age_rang_(60, 70]</th>\n",
                            "      <th>age_rang_(70, 80]</th>\n",
                            "      <th>age_rang_(80, 90]</th>\n",
                            "      <th>age_rang_(90, 100]</th>\n",
                            "    </tr>\n",
                            "  </thead>\n",
                            "  <tbody>\n",
                            "    <tr>\n",
                            "      <th>0</th>\n",
                            "      <td>56</td>\n",
                            "      <td>261</td>\n",
                            "      <td>1</td>\n",
                            "      <td>0</td>\n",
                            "      <td>1.1</td>\n",
                            "      <td>93.994</td>\n",
                            "      <td>-36.4</td>\n",
                            "      <td>4.857</td>\n",
                            "      <td>5191.0</td>\n",
                            "      <td>0</td>\n",
                            "      <td>...</td>\n",
                            "      <td>0</td>\n",
                            "      <td>0</td>\n",
                            "      <td>0</td>\n",
                            "      <td>0</td>\n",
                            "      <td>0</td>\n",
                            "      <td>1</td>\n",
                            "      <td>0</td>\n",
                            "      <td>0</td>\n",
                            "      <td>0</td>\n",
                            "      <td>0</td>\n",
                            "    </tr>\n",
                            "    <tr>\n",
                            "      <th>1</th>\n",
                            "      <td>57</td>\n",
                            "      <td>149</td>\n",
                            "      <td>1</td>\n",
                            "      <td>0</td>\n",
                            "      <td>1.1</td>\n",
                            "      <td>93.994</td>\n",
                            "      <td>-36.4</td>\n",
                            "      <td>4.857</td>\n",
                            "      <td>5191.0</td>\n",
                            "      <td>0</td>\n",
                            "      <td>...</td>\n",
                            "      <td>0</td>\n",
                            "      <td>0</td>\n",
                            "      <td>0</td>\n",
                            "      <td>0</td>\n",
                            "      <td>0</td>\n",
                            "      <td>1</td>\n",
                            "      <td>0</td>\n",
                            "      <td>0</td>\n",
                            "      <td>0</td>\n",
                            "      <td>0</td>\n",
                            "    </tr>\n",
                            "    <tr>\n",
                            "      <th>2</th>\n",
                            "      <td>37</td>\n",
                            "      <td>226</td>\n",
                            "      <td>1</td>\n",
                            "      <td>0</td>\n",
                            "      <td>1.1</td>\n",
                            "      <td>93.994</td>\n",
                            "      <td>-36.4</td>\n",
                            "      <td>4.857</td>\n",
                            "      <td>5191.0</td>\n",
                            "      <td>0</td>\n",
                            "      <td>...</td>\n",
                            "      <td>0</td>\n",
                            "      <td>0</td>\n",
                            "      <td>0</td>\n",
                            "      <td>1</td>\n",
                            "      <td>0</td>\n",
                            "      <td>0</td>\n",
                            "      <td>0</td>\n",
                            "      <td>0</td>\n",
                            "      <td>0</td>\n",
                            "      <td>0</td>\n",
                            "    </tr>\n",
                            "    <tr>\n",
                            "      <th>3</th>\n",
                            "      <td>40</td>\n",
                            "      <td>151</td>\n",
                            "      <td>1</td>\n",
                            "      <td>0</td>\n",
                            "      <td>1.1</td>\n",
                            "      <td>93.994</td>\n",
                            "      <td>-36.4</td>\n",
                            "      <td>4.857</td>\n",
                            "      <td>5191.0</td>\n",
                            "      <td>0</td>\n",
                            "      <td>...</td>\n",
                            "      <td>0</td>\n",
                            "      <td>0</td>\n",
                            "      <td>0</td>\n",
                            "      <td>1</td>\n",
                            "      <td>0</td>\n",
                            "      <td>0</td>\n",
                            "      <td>0</td>\n",
                            "      <td>0</td>\n",
                            "      <td>0</td>\n",
                            "      <td>0</td>\n",
                            "    </tr>\n",
                            "    <tr>\n",
                            "      <th>4</th>\n",
                            "      <td>56</td>\n",
                            "      <td>307</td>\n",
                            "      <td>1</td>\n",
                            "      <td>0</td>\n",
                            "      <td>1.1</td>\n",
                            "      <td>93.994</td>\n",
                            "      <td>-36.4</td>\n",
                            "      <td>4.857</td>\n",
                            "      <td>5191.0</td>\n",
                            "      <td>0</td>\n",
                            "      <td>...</td>\n",
                            "      <td>0</td>\n",
                            "      <td>0</td>\n",
                            "      <td>0</td>\n",
                            "      <td>0</td>\n",
                            "      <td>0</td>\n",
                            "      <td>1</td>\n",
                            "      <td>0</td>\n",
                            "      <td>0</td>\n",
                            "      <td>0</td>\n",
                            "      <td>0</td>\n",
                            "    </tr>\n",
                            "  </tbody>\n",
                            "</table>\n",
                            "<p>5 rows × 66 columns</p>\n",
                            "</div>"
                        ],
                        "text/plain": [
                            "   age  duration  campaign  previous  emp.var.rate  cons.price.idx  \\\n",
                            "0   56       261         1         0           1.1          93.994   \n",
                            "1   57       149         1         0           1.1          93.994   \n",
                            "2   37       226         1         0           1.1          93.994   \n",
                            "3   40       151         1         0           1.1          93.994   \n",
                            "4   56       307         1         0           1.1          93.994   \n",
                            "\n",
                            "   cons.conf.idx  euribor3m  nr.employed  y  ...  poutcome_success  \\\n",
                            "0          -36.4      4.857       5191.0  0  ...                 0   \n",
                            "1          -36.4      4.857       5191.0  0  ...                 0   \n",
                            "2          -36.4      4.857       5191.0  0  ...                 0   \n",
                            "3          -36.4      4.857       5191.0  0  ...                 0   \n",
                            "4          -36.4      4.857       5191.0  0  ...                 0   \n",
                            "\n",
                            "   age_rang_(10, 20]  age_rang_(20, 30]  age_rang_(30, 40]  age_rang_(40, 50]  \\\n",
                            "0                  0                  0                  0                  0   \n",
                            "1                  0                  0                  0                  0   \n",
                            "2                  0                  0                  1                  0   \n",
                            "3                  0                  0                  1                  0   \n",
                            "4                  0                  0                  0                  0   \n",
                            "\n",
                            "   age_rang_(50, 60]  age_rang_(60, 70]  age_rang_(70, 80]  age_rang_(80, 90]  \\\n",
                            "0                  1                  0                  0                  0   \n",
                            "1                  1                  0                  0                  0   \n",
                            "2                  0                  0                  0                  0   \n",
                            "3                  0                  0                  0                  0   \n",
                            "4                  1                  0                  0                  0   \n",
                            "\n",
                            "   age_rang_(90, 100]  \n",
                            "0                   0  \n",
                            "1                   0  \n",
                            "2                   0  \n",
                            "3                   0  \n",
                            "4                   0  \n",
                            "\n",
                            "[5 rows x 66 columns]"
                        ]
                    },
                    "execution_count": 262,
                    "metadata": {},
                    "output_type": "execute_result"
                }
            ],
            "source": [
                "df_cod.head()"
            ]
        },
        {
            "cell_type": "markdown",
            "metadata": {},
            "source": [
                "**Variables cuantitativas**\n",
                "\n",
                "Del análisis exploratorio no surge la necesidad de realizarle ningún tratamiento a éstas variables. La estandarización se realiza en el punto siguiente.\n",
                "\n",
                "> Si bien en la letra del ejercicio dice que existen valores desconocidos, no se encontraron."
            ]
        },
        {
            "cell_type": "markdown",
            "metadata": {},
            "source": [
                "### Step 4"
            ]
        },
        {
            "cell_type": "markdown",
            "metadata": {},
            "source": [
                "Analizando las variables a considerar como explicativas del modelo, se decide eliminar la variable 'duration' ya que el objetivo del proyecto es estimar la eficiencia de la campaña y cuando se realiza la llamada dentro de la campaña, el resultado de la misma ya se hace efectivo, por lo cual sería cierto. \n",
                "\n",
                "Para el resto de variables se analiza la correlación entre ellas para controlar que no exista multicolinealidad y afecte el modelo."
            ]
        },
        {
            "cell_type": "code",
            "execution_count": 263,
            "metadata": {},
            "outputs": [
                {
                    "name": "stdout",
                    "output_type": "stream",
                    "text": [
                        "[[], [], [], [], [('euribor3m', 0.972243830979756), ('nr.employed', 0.9069494985179554)], [], [], [('emp.var.rate', 0.972243830979756), ('nr.employed', 0.9451459468620566)], [('emp.var.rate', 0.9069494985179554), ('euribor3m', 0.9451459468620566)], [], [], [], [], [], [], [], [], [], [], [], [], [], [], [], [], [], [], [], [], [], [], [], [], [], [], [], [], [], [], [], [], [], [], [], [], [], [], [], [], [], [], [], [], [('poutcome_success', 0.9502828225873861)], [], [], [('pdays_yes', 0.9502828225873861)], [], [], [], [], [], [], [], [], []]\n"
                    ]
                }
            ],
            "source": [
                "list=[]\n",
                "for i, r in df_cod.corr().iterrows():\n",
                "    list.append([(n,v) for n,v in r.items() if (v > 0.9) & (v < 1)])\n",
                "\n",
                "\n",
                "print(list)"
            ]
        },
        {
            "cell_type": "markdown",
            "metadata": {},
            "source": [
                "Se observa que las variables que podrían estar linealmente correlacionadas son 'euribor3m', 'nr.employed' y 'emp.var.rate'. Es razonable dado que son índices o ratios que se relacionan con el mercado laboral y seguramente varien en conjunto. Por lo anterior se decide considerar solamente la variable 'emp.var.rate'.\n"
            ]
        },
        {
            "cell_type": "code",
            "execution_count": 264,
            "metadata": {},
            "outputs": [],
            "source": [
                "df_cod=df_cod.drop(columns=['euribor3m', 'nr.employed'])"
            ]
        },
        {
            "cell_type": "markdown",
            "metadata": {},
            "source": [
                "\n",
                "A continuación se evalúa la correlación entre los posibles features y la variable dependiente tomando como criterio de selección, aquellas variables que tengan una correlación absoluta mayor a 0.05 con la variable y."
            ]
        },
        {
            "cell_type": "code",
            "execution_count": 265,
            "metadata": {},
            "outputs": [
                {
                    "name": "stdout",
                    "output_type": "stream",
                    "text": [
                        "duration 0.4052972612685261\n",
                        "campaign -0.06636068437609752\n",
                        "previous 0.23020157021544804\n",
                        "emp.var.rate -0.2982885042462049\n",
                        "cons.price.idx -0.13613397100799632\n",
                        "cons.conf.idx 0.05480181650950573\n",
                        "y 1.0\n",
                        "job_blue-collar -0.07443148515321887\n",
                        "job_retired 0.09236405309496006\n",
                        "job_student 0.09396188269293622\n",
                        "marital_single 0.05420850848467096\n",
                        "education_middle_school -0.05354832781951105\n",
                        "education_university.degree 0.05761441497724151\n",
                        "contact_cellular 0.14477421661588266\n",
                        "contact_telephone -0.14477421661588413\n",
                        "month_apr 0.07618753725161154\n",
                        "month_dec 0.07931055688225107\n",
                        "month_mar 0.1440273804163184\n",
                        "month_may -0.10827768281628189\n",
                        "month_oct 0.13753837746474565\n",
                        "month_sep 0.12607860850016314\n",
                        "pdays_no -0.3249098020820296\n",
                        "pdays_yes 0.32490980208203085\n",
                        "poutcome_nonexistent -0.19352234318861486\n",
                        "poutcome_success 0.3163015630473198\n",
                        "age_rang_(10, 20] 0.05440051937507881\n",
                        "age_rang_(20, 30] 0.05068482968670524\n",
                        "age_rang_(40, 50] -0.05639423908929789\n",
                        "age_rang_(60, 70] 0.11144974043447008\n",
                        "age_rang_(70, 80] 0.098099950562341\n",
                        "age_rang_(80, 90] 0.062365962714735435\n"
                    ]
                }
            ],
            "source": [
                "f=[]\n",
                "pd.set_option('display.max_rows',110)\n",
                "for i,r in df_cod.corr()[['y']].iterrows():\n",
                "    if (r[0] > 0.05) | (r[0] < -0.05):\n",
                "        f.append(i)\n",
                "        print(i,r[0])"
            ]
        },
        {
            "cell_type": "code",
            "execution_count": 267,
            "metadata": {},
            "outputs": [],
            "source": [
                "X=df_cod[f].drop(columns='y')\n",
                "y=df_cod['y']"
            ]
        },
        {
            "cell_type": "code",
            "execution_count": 268,
            "metadata": {},
            "outputs": [
                {
                    "name": "stdout",
                    "output_type": "stream",
                    "text": [
                        "<class 'pandas.core.frame.DataFrame'>\n",
                        "Int64Index: 41176 entries, 0 to 41187\n",
                        "Data columns (total 30 columns):\n",
                        " #   Column                       Non-Null Count  Dtype  \n",
                        "---  ------                       --------------  -----  \n",
                        " 0   duration                     41176 non-null  int64  \n",
                        " 1   campaign                     41176 non-null  int64  \n",
                        " 2   previous                     41176 non-null  int64  \n",
                        " 3   emp.var.rate                 41176 non-null  float64\n",
                        " 4   cons.price.idx               41176 non-null  float64\n",
                        " 5   cons.conf.idx                41176 non-null  float64\n",
                        " 6   job_blue-collar              41176 non-null  uint8  \n",
                        " 7   job_retired                  41176 non-null  uint8  \n",
                        " 8   job_student                  41176 non-null  uint8  \n",
                        " 9   marital_single               41176 non-null  uint8  \n",
                        " 10  education_middle_school      41176 non-null  uint8  \n",
                        " 11  education_university.degree  41176 non-null  uint8  \n",
                        " 12  contact_cellular             41176 non-null  uint8  \n",
                        " 13  contact_telephone            41176 non-null  uint8  \n",
                        " 14  month_apr                    41176 non-null  uint8  \n",
                        " 15  month_dec                    41176 non-null  uint8  \n",
                        " 16  month_mar                    41176 non-null  uint8  \n",
                        " 17  month_may                    41176 non-null  uint8  \n",
                        " 18  month_oct                    41176 non-null  uint8  \n",
                        " 19  month_sep                    41176 non-null  uint8  \n",
                        " 20  pdays_no                     41176 non-null  uint8  \n",
                        " 21  pdays_yes                    41176 non-null  uint8  \n",
                        " 22  poutcome_nonexistent         41176 non-null  uint8  \n",
                        " 23  poutcome_success             41176 non-null  uint8  \n",
                        " 24  age_rang_(10, 20]            41176 non-null  uint8  \n",
                        " 25  age_rang_(20, 30]            41176 non-null  uint8  \n",
                        " 26  age_rang_(40, 50]            41176 non-null  uint8  \n",
                        " 27  age_rang_(60, 70]            41176 non-null  uint8  \n",
                        " 28  age_rang_(70, 80]            41176 non-null  uint8  \n",
                        " 29  age_rang_(80, 90]            41176 non-null  uint8  \n",
                        "dtypes: float64(3), int64(3), uint8(24)\n",
                        "memory usage: 3.1 MB\n"
                    ]
                }
            ],
            "source": [
                "X.info()"
            ]
        },
        {
            "cell_type": "markdown",
            "metadata": {},
            "source": [
                "Selección de la muestra de entrenamiento y prueba considerando una proporción 80-20."
            ]
        },
        {
            "cell_type": "code",
            "execution_count": 269,
            "metadata": {},
            "outputs": [],
            "source": [
                "from sklearn.linear_model import LogisticRegression\n",
                "from sklearn.model_selection import train_test_split, GridSearchCV, cross_val_score, RepeatedStratifiedKFold, StratifiedKFold\n",
                "from sklearn.metrics import accuracy_score, confusion_matrix,roc_curve, roc_auc_score, precision_score, recall_score, precision_recall_curve\n",
                "from sklearn.metrics import f1_score\n",
                "from sklearn.preprocessing import StandardScaler\n",
                "from sklearn.metrics import classification_report"
            ]
        },
        {
            "cell_type": "code",
            "execution_count": 270,
            "metadata": {},
            "outputs": [],
            "source": [
                "\n",
                "X_train, X_test, y_train, y_test = train_test_split(X, y, test_size=0.2, random_state=57)"
            ]
        },
        {
            "cell_type": "markdown",
            "metadata": {},
            "source": [
                "A continuación se estandariza la muestra de entrenamiento y se utilizan mismos parámetros para transformar la muestra de prueba."
            ]
        },
        {
            "cell_type": "code",
            "execution_count": 271,
            "metadata": {},
            "outputs": [],
            "source": [
                "sc = StandardScaler()\n",
                "X_train_sc = sc.fit_transform(X_train)\n",
                "X_test_sc = sc.transform (X_test)"
            ]
        },
        {
            "cell_type": "markdown",
            "metadata": {},
            "source": [
                "Al plantear el modelo se considera que la muestra original está desbalanceada definiendo el hiperparámetro 'class_weight'. Mediante el mismo se penaliza el error de clasificación de la clase menos representada, que en éste caso es 'yes' (1). Para definir los pesos, se sigue la buena práctica de utilizar la frecuencia de la clase opuesta, es decir, para la clase 0 se asigna un peso de 11% y a la 1 se asigna un 89%.\n",
                "\n",
                "Fuente:https://towardsdatascience.com/weighted-logistic-regression-for-imbalanced-dataset-9a5cd88e68b"
            ]
        },
        {
            "cell_type": "code",
            "execution_count": 272,
            "metadata": {},
            "outputs": [
                {
                    "data": {
                        "text/plain": [
                            "0    0.887337\n",
                            "1    0.112663\n",
                            "Name: y, dtype: float64"
                        ]
                    },
                    "execution_count": 272,
                    "metadata": {},
                    "output_type": "execute_result"
                }
            ],
            "source": [
                "df_cod['y'].value_counts(normalize=True)"
            ]
        },
        {
            "cell_type": "code",
            "execution_count": 273,
            "metadata": {},
            "outputs": [],
            "source": [
                "w={0:11,1:89} #Pesos\n",
                "lg= LogisticRegression(random_state=57, class_weight=w) # Se define el modelo\n"
            ]
        },
        {
            "cell_type": "code",
            "execution_count": 274,
            "metadata": {},
            "outputs": [
                {
                    "data": {
                        "text/html": [
                            "<style>#sk-container-id-3 {color: black;background-color: white;}#sk-container-id-3 pre{padding: 0;}#sk-container-id-3 div.sk-toggleable {background-color: white;}#sk-container-id-3 label.sk-toggleable__label {cursor: pointer;display: block;width: 100%;margin-bottom: 0;padding: 0.3em;box-sizing: border-box;text-align: center;}#sk-container-id-3 label.sk-toggleable__label-arrow:before {content: \"▸\";float: left;margin-right: 0.25em;color: #696969;}#sk-container-id-3 label.sk-toggleable__label-arrow:hover:before {color: black;}#sk-container-id-3 div.sk-estimator:hover label.sk-toggleable__label-arrow:before {color: black;}#sk-container-id-3 div.sk-toggleable__content {max-height: 0;max-width: 0;overflow: hidden;text-align: left;background-color: #f0f8ff;}#sk-container-id-3 div.sk-toggleable__content pre {margin: 0.2em;color: black;border-radius: 0.25em;background-color: #f0f8ff;}#sk-container-id-3 input.sk-toggleable__control:checked~div.sk-toggleable__content {max-height: 200px;max-width: 100%;overflow: auto;}#sk-container-id-3 input.sk-toggleable__control:checked~label.sk-toggleable__label-arrow:before {content: \"▾\";}#sk-container-id-3 div.sk-estimator input.sk-toggleable__control:checked~label.sk-toggleable__label {background-color: #d4ebff;}#sk-container-id-3 div.sk-label input.sk-toggleable__control:checked~label.sk-toggleable__label {background-color: #d4ebff;}#sk-container-id-3 input.sk-hidden--visually {border: 0;clip: rect(1px 1px 1px 1px);clip: rect(1px, 1px, 1px, 1px);height: 1px;margin: -1px;overflow: hidden;padding: 0;position: absolute;width: 1px;}#sk-container-id-3 div.sk-estimator {font-family: monospace;background-color: #f0f8ff;border: 1px dotted black;border-radius: 0.25em;box-sizing: border-box;margin-bottom: 0.5em;}#sk-container-id-3 div.sk-estimator:hover {background-color: #d4ebff;}#sk-container-id-3 div.sk-parallel-item::after {content: \"\";width: 100%;border-bottom: 1px solid gray;flex-grow: 1;}#sk-container-id-3 div.sk-label:hover label.sk-toggleable__label {background-color: #d4ebff;}#sk-container-id-3 div.sk-serial::before {content: \"\";position: absolute;border-left: 1px solid gray;box-sizing: border-box;top: 0;bottom: 0;left: 50%;z-index: 0;}#sk-container-id-3 div.sk-serial {display: flex;flex-direction: column;align-items: center;background-color: white;padding-right: 0.2em;padding-left: 0.2em;position: relative;}#sk-container-id-3 div.sk-item {position: relative;z-index: 1;}#sk-container-id-3 div.sk-parallel {display: flex;align-items: stretch;justify-content: center;background-color: white;position: relative;}#sk-container-id-3 div.sk-item::before, #sk-container-id-3 div.sk-parallel-item::before {content: \"\";position: absolute;border-left: 1px solid gray;box-sizing: border-box;top: 0;bottom: 0;left: 50%;z-index: -1;}#sk-container-id-3 div.sk-parallel-item {display: flex;flex-direction: column;z-index: 1;position: relative;background-color: white;}#sk-container-id-3 div.sk-parallel-item:first-child::after {align-self: flex-end;width: 50%;}#sk-container-id-3 div.sk-parallel-item:last-child::after {align-self: flex-start;width: 50%;}#sk-container-id-3 div.sk-parallel-item:only-child::after {width: 0;}#sk-container-id-3 div.sk-dashed-wrapped {border: 1px dashed gray;margin: 0 0.4em 0.5em 0.4em;box-sizing: border-box;padding-bottom: 0.4em;background-color: white;}#sk-container-id-3 div.sk-label label {font-family: monospace;font-weight: bold;display: inline-block;line-height: 1.2em;}#sk-container-id-3 div.sk-label-container {text-align: center;}#sk-container-id-3 div.sk-container {/* jupyter's `normalize.less` sets `[hidden] { display: none; }` but bootstrap.min.css set `[hidden] { display: none !important; }` so we also need the `!important` here to be able to override the default hidden behavior on the sphinx rendered scikit-learn.org. See: https://github.com/scikit-learn/scikit-learn/issues/21755 */display: inline-block !important;position: relative;}#sk-container-id-3 div.sk-text-repr-fallback {display: none;}</style><div id=\"sk-container-id-3\" class=\"sk-top-container\"><div class=\"sk-text-repr-fallback\"><pre>LogisticRegression(class_weight={0: 11, 1: 89}, random_state=57)</pre><b>In a Jupyter environment, please rerun this cell to show the HTML representation or trust the notebook. <br />On GitHub, the HTML representation is unable to render, please try loading this page with nbviewer.org.</b></div><div class=\"sk-container\" hidden><div class=\"sk-item\"><div class=\"sk-estimator sk-toggleable\"><input class=\"sk-toggleable__control sk-hidden--visually\" id=\"sk-estimator-id-3\" type=\"checkbox\" checked><label for=\"sk-estimator-id-3\" class=\"sk-toggleable__label sk-toggleable__label-arrow\">LogisticRegression</label><div class=\"sk-toggleable__content\"><pre>LogisticRegression(class_weight={0: 11, 1: 89}, random_state=57)</pre></div></div></div></div></div>"
                        ],
                        "text/plain": [
                            "LogisticRegression(class_weight={0: 11, 1: 89}, random_state=57)"
                        ]
                    },
                    "execution_count": 274,
                    "metadata": {},
                    "output_type": "execute_result"
                }
            ],
            "source": [
                "lg.fit(X_train_sc,y_train) # Se entrena"
            ]
        },
        {
            "cell_type": "code",
            "execution_count": 275,
            "metadata": {},
            "outputs": [
                {
                    "data": {
                        "text/plain": [
                            "array([0, 0, 1, 0, 0, 0, 1, 0, 0, 1], dtype=int8)"
                        ]
                    },
                    "execution_count": 275,
                    "metadata": {},
                    "output_type": "execute_result"
                }
            ],
            "source": [
                "\n",
                "y_pred = lg.predict(X_test_sc) # Se testea\n",
                "y_pred[:10]"
            ]
        },
        {
            "cell_type": "code",
            "execution_count": 276,
            "metadata": {},
            "outputs": [
                {
                    "data": {
                        "text/html": [
                            "<div>\n",
                            "<style scoped>\n",
                            "    .dataframe tbody tr th:only-of-type {\n",
                            "        vertical-align: middle;\n",
                            "    }\n",
                            "\n",
                            "    .dataframe tbody tr th {\n",
                            "        vertical-align: top;\n",
                            "    }\n",
                            "\n",
                            "    .dataframe thead th {\n",
                            "        text-align: right;\n",
                            "    }\n",
                            "</style>\n",
                            "<table border=\"1\" class=\"dataframe\">\n",
                            "  <thead>\n",
                            "    <tr style=\"text-align: right;\">\n",
                            "      <th>Prediction</th>\n",
                            "      <th>0</th>\n",
                            "      <th>1</th>\n",
                            "    </tr>\n",
                            "    <tr>\n",
                            "      <th>Actual</th>\n",
                            "      <th></th>\n",
                            "      <th></th>\n",
                            "    </tr>\n",
                            "  </thead>\n",
                            "  <tbody>\n",
                            "    <tr>\n",
                            "      <th>0</th>\n",
                            "      <td>6237</td>\n",
                            "      <td>1100</td>\n",
                            "    </tr>\n",
                            "    <tr>\n",
                            "      <th>1</th>\n",
                            "      <td>99</td>\n",
                            "      <td>800</td>\n",
                            "    </tr>\n",
                            "  </tbody>\n",
                            "</table>\n",
                            "</div>"
                        ],
                        "text/plain": [
                            "Prediction     0     1\n",
                            "Actual                \n",
                            "0           6237  1100\n",
                            "1             99   800"
                        ]
                    },
                    "execution_count": 276,
                    "metadata": {},
                    "output_type": "execute_result"
                }
            ],
            "source": [
                "pd.crosstab(np.array(y_test),np.array(y_pred), rownames=['Actual'],colnames=['Prediction'])"
            ]
        },
        {
            "cell_type": "code",
            "execution_count": 277,
            "metadata": {},
            "outputs": [],
            "source": [
                "df_pred=pd.DataFrame({'Actual':y_test,'Prediction':y_pred})"
            ]
        },
        {
            "cell_type": "code",
            "execution_count": 278,
            "metadata": {},
            "outputs": [
                {
                    "name": "stdout",
                    "output_type": "stream",
                    "text": [
                        "              precision    recall  f1-score   support\n",
                        "\n",
                        "           0       0.98      0.85      0.91      7337\n",
                        "           1       0.42      0.89      0.57       899\n",
                        "\n",
                        "    accuracy                           0.85      8236\n",
                        "   macro avg       0.70      0.87      0.74      8236\n",
                        "weighted avg       0.92      0.85      0.88      8236\n",
                        "\n"
                    ]
                }
            ],
            "source": [
                "print(classification_report(df_pred['Actual'],df_pred['Prediction']))"
            ]
        },
        {
            "cell_type": "markdown",
            "metadata": {},
            "source": [
                "### Conclusiones:\n",
                "\n",
                "Para las muestras desbalanceadas se aconceja considerar los indicadores de Precisión y Recall por lo que se evaluarán los resultados en función a ellos.\n",
                "\n",
                "> Clientes que se predijo que iban a depositar del total de los que efectivamente depositaron: el indicador Recall (TPR) permite observar que en un 89 % de los casos (800/899) se predijo correctamente, por lo que si se realizara la campaña en función al modelo, se \"perderían\" 99 clientes.\n",
                "\n",
                "> Clientes que se predijo que iban a depositar y lo hicieron: el indicador de precisión indica que un 42% de los clientes que se predijo iban a realizar un depósito, efectivamente lo realizaron, esto quiere decir que se invirtió en una campaña que contempló contactar a 1900 clientes y 800 efectivamente realizaron un depósito a largo plazo. \n",
                "\n",
                "En definitiva, la conveniencia de utilizar el modelo dependerá del contrafactual. No hay duda que basarse en el modelo es más eficiente que contactar a todos los clientes del banco."
            ]
        }
    ],
    "metadata": {
        "kernelspec": {
            "display_name": "Python 3.8.13 64-bit ('3.8.13')",
            "language": "python",
            "name": "python3"
        },
        "language_info": {
            "codemirror_mode": {
                "name": "ipython",
                "version": 3
            },
            "file_extension": ".py",
            "mimetype": "text/x-python",
            "name": "python",
            "nbconvert_exporter": "python",
            "pygments_lexer": "ipython3",
            "version": "3.8.13"
        },
        "orig_nbformat": 4,
        "vscode": {
            "interpreter": {
                "hash": "110cc1dee26208153f2972f08a2ad52b6a56238dc66d48e87fb757ef2996db56"
            }
        }
    },
    "nbformat": 4,
    "nbformat_minor": 2
}
