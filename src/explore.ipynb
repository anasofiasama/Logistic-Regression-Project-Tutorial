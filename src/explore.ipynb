{
    "cells": [
        {
            "cell_type": "markdown",
            "metadata": {},
            "source": [
                "# Proyecto de campaña de marketing para Banco\n",
                "\n",
                "\n",
                "Algunos puntos a considerar:\n",
                "- Objetivo: se quiere predecir si un cliente del Banco va a realizar un depósito a plazo o no -> Predicción\n",
                "- Los datos están etiquetados, es decir, tenemos una muestra del comportamiento observado de algunos usuarios -> Aprendizaje Supervisado\n",
                "- La variable a explicar (y : ¿Va a depositar a plazo?) es categórica (si/no) -> Problema de clasificación"
            ]
        },
        {
            "cell_type": "markdown",
            "metadata": {},
            "source": [
                "### Paso 1 : Importación de datos desde página web"
            ]
        },
        {
            "cell_type": "code",
            "execution_count": 278,
            "metadata": {},
            "outputs": [],
            "source": [
                "import pandas as pd\n",
                "import numpy as np\n",
                "import matplotlib.pyplot as plt"
            ]
        },
        {
            "cell_type": "code",
            "execution_count": 279,
            "metadata": {},
            "outputs": [],
            "source": [
                "url='https://raw.githubusercontent.com/4GeeksAcademy/logistic-regression-project-tutorial/'+\\\n",
                "    'main/bank-marketing-campaign-data.csv'\n",
                "df=pd.read_csv(url,sep=';')"
            ]
        },
        {
            "cell_type": "markdown",
            "metadata": {},
            "source": [
                "### Paso 2 : Análisis exploratorio de datos\n"
            ]
        },
        {
            "cell_type": "markdown",
            "metadata": {},
            "source": [
                "Lo primero es ver cómo vienen los datos, para ello se imprime una muestra aleatoria de 10 observaciones y se analiza la información principal y descriptiva de la base."
            ]
        },
        {
            "cell_type": "code",
            "execution_count": 280,
            "metadata": {},
            "outputs": [
                {
                    "data": {
                        "text/html": [
                            "<div>\n",
                            "<style scoped>\n",
                            "    .dataframe tbody tr th:only-of-type {\n",
                            "        vertical-align: middle;\n",
                            "    }\n",
                            "\n",
                            "    .dataframe tbody tr th {\n",
                            "        vertical-align: top;\n",
                            "    }\n",
                            "\n",
                            "    .dataframe thead th {\n",
                            "        text-align: right;\n",
                            "    }\n",
                            "</style>\n",
                            "<table border=\"1\" class=\"dataframe\">\n",
                            "  <thead>\n",
                            "    <tr style=\"text-align: right;\">\n",
                            "      <th></th>\n",
                            "      <th>age</th>\n",
                            "      <th>job</th>\n",
                            "      <th>marital</th>\n",
                            "      <th>education</th>\n",
                            "      <th>default</th>\n",
                            "      <th>housing</th>\n",
                            "      <th>loan</th>\n",
                            "      <th>contact</th>\n",
                            "      <th>month</th>\n",
                            "      <th>day_of_week</th>\n",
                            "      <th>...</th>\n",
                            "      <th>campaign</th>\n",
                            "      <th>pdays</th>\n",
                            "      <th>previous</th>\n",
                            "      <th>poutcome</th>\n",
                            "      <th>emp.var.rate</th>\n",
                            "      <th>cons.price.idx</th>\n",
                            "      <th>cons.conf.idx</th>\n",
                            "      <th>euribor3m</th>\n",
                            "      <th>nr.employed</th>\n",
                            "      <th>y</th>\n",
                            "    </tr>\n",
                            "  </thead>\n",
                            "  <tbody>\n",
                            "    <tr>\n",
                            "      <th>22284</th>\n",
                            "      <td>44</td>\n",
                            "      <td>technician</td>\n",
                            "      <td>divorced</td>\n",
                            "      <td>professional.course</td>\n",
                            "      <td>unknown</td>\n",
                            "      <td>yes</td>\n",
                            "      <td>no</td>\n",
                            "      <td>cellular</td>\n",
                            "      <td>aug</td>\n",
                            "      <td>thu</td>\n",
                            "      <td>...</td>\n",
                            "      <td>6</td>\n",
                            "      <td>999</td>\n",
                            "      <td>0</td>\n",
                            "      <td>nonexistent</td>\n",
                            "      <td>1.4</td>\n",
                            "      <td>93.444</td>\n",
                            "      <td>-36.1</td>\n",
                            "      <td>4.963</td>\n",
                            "      <td>5228.1</td>\n",
                            "      <td>no</td>\n",
                            "    </tr>\n",
                            "    <tr>\n",
                            "      <th>9076</th>\n",
                            "      <td>42</td>\n",
                            "      <td>blue-collar</td>\n",
                            "      <td>divorced</td>\n",
                            "      <td>high.school</td>\n",
                            "      <td>no</td>\n",
                            "      <td>no</td>\n",
                            "      <td>yes</td>\n",
                            "      <td>telephone</td>\n",
                            "      <td>jun</td>\n",
                            "      <td>thu</td>\n",
                            "      <td>...</td>\n",
                            "      <td>7</td>\n",
                            "      <td>999</td>\n",
                            "      <td>0</td>\n",
                            "      <td>nonexistent</td>\n",
                            "      <td>1.4</td>\n",
                            "      <td>94.465</td>\n",
                            "      <td>-41.8</td>\n",
                            "      <td>4.866</td>\n",
                            "      <td>5228.1</td>\n",
                            "      <td>no</td>\n",
                            "    </tr>\n",
                            "    <tr>\n",
                            "      <th>34242</th>\n",
                            "      <td>29</td>\n",
                            "      <td>admin.</td>\n",
                            "      <td>single</td>\n",
                            "      <td>high.school</td>\n",
                            "      <td>no</td>\n",
                            "      <td>no</td>\n",
                            "      <td>no</td>\n",
                            "      <td>cellular</td>\n",
                            "      <td>may</td>\n",
                            "      <td>thu</td>\n",
                            "      <td>...</td>\n",
                            "      <td>7</td>\n",
                            "      <td>999</td>\n",
                            "      <td>0</td>\n",
                            "      <td>nonexistent</td>\n",
                            "      <td>-1.8</td>\n",
                            "      <td>92.893</td>\n",
                            "      <td>-46.2</td>\n",
                            "      <td>1.266</td>\n",
                            "      <td>5099.1</td>\n",
                            "      <td>no</td>\n",
                            "    </tr>\n",
                            "    <tr>\n",
                            "      <th>14815</th>\n",
                            "      <td>23</td>\n",
                            "      <td>blue-collar</td>\n",
                            "      <td>single</td>\n",
                            "      <td>high.school</td>\n",
                            "      <td>no</td>\n",
                            "      <td>no</td>\n",
                            "      <td>no</td>\n",
                            "      <td>cellular</td>\n",
                            "      <td>jul</td>\n",
                            "      <td>wed</td>\n",
                            "      <td>...</td>\n",
                            "      <td>1</td>\n",
                            "      <td>999</td>\n",
                            "      <td>0</td>\n",
                            "      <td>nonexistent</td>\n",
                            "      <td>1.4</td>\n",
                            "      <td>93.918</td>\n",
                            "      <td>-42.7</td>\n",
                            "      <td>4.957</td>\n",
                            "      <td>5228.1</td>\n",
                            "      <td>yes</td>\n",
                            "    </tr>\n",
                            "    <tr>\n",
                            "      <th>26450</th>\n",
                            "      <td>45</td>\n",
                            "      <td>blue-collar</td>\n",
                            "      <td>married</td>\n",
                            "      <td>basic.9y</td>\n",
                            "      <td>no</td>\n",
                            "      <td>no</td>\n",
                            "      <td>no</td>\n",
                            "      <td>cellular</td>\n",
                            "      <td>nov</td>\n",
                            "      <td>thu</td>\n",
                            "      <td>...</td>\n",
                            "      <td>1</td>\n",
                            "      <td>999</td>\n",
                            "      <td>0</td>\n",
                            "      <td>nonexistent</td>\n",
                            "      <td>-0.1</td>\n",
                            "      <td>93.200</td>\n",
                            "      <td>-42.0</td>\n",
                            "      <td>4.076</td>\n",
                            "      <td>5195.8</td>\n",
                            "      <td>no</td>\n",
                            "    </tr>\n",
                            "    <tr>\n",
                            "      <th>33686</th>\n",
                            "      <td>44</td>\n",
                            "      <td>admin.</td>\n",
                            "      <td>married</td>\n",
                            "      <td>high.school</td>\n",
                            "      <td>no</td>\n",
                            "      <td>yes</td>\n",
                            "      <td>no</td>\n",
                            "      <td>cellular</td>\n",
                            "      <td>may</td>\n",
                            "      <td>wed</td>\n",
                            "      <td>...</td>\n",
                            "      <td>3</td>\n",
                            "      <td>999</td>\n",
                            "      <td>2</td>\n",
                            "      <td>failure</td>\n",
                            "      <td>-1.8</td>\n",
                            "      <td>92.893</td>\n",
                            "      <td>-46.2</td>\n",
                            "      <td>1.281</td>\n",
                            "      <td>5099.1</td>\n",
                            "      <td>no</td>\n",
                            "    </tr>\n",
                            "    <tr>\n",
                            "      <th>15072</th>\n",
                            "      <td>27</td>\n",
                            "      <td>admin.</td>\n",
                            "      <td>single</td>\n",
                            "      <td>high.school</td>\n",
                            "      <td>unknown</td>\n",
                            "      <td>yes</td>\n",
                            "      <td>no</td>\n",
                            "      <td>cellular</td>\n",
                            "      <td>jul</td>\n",
                            "      <td>thu</td>\n",
                            "      <td>...</td>\n",
                            "      <td>1</td>\n",
                            "      <td>999</td>\n",
                            "      <td>0</td>\n",
                            "      <td>nonexistent</td>\n",
                            "      <td>1.4</td>\n",
                            "      <td>93.918</td>\n",
                            "      <td>-42.7</td>\n",
                            "      <td>4.958</td>\n",
                            "      <td>5228.1</td>\n",
                            "      <td>no</td>\n",
                            "    </tr>\n",
                            "    <tr>\n",
                            "      <th>28908</th>\n",
                            "      <td>35</td>\n",
                            "      <td>services</td>\n",
                            "      <td>single</td>\n",
                            "      <td>high.school</td>\n",
                            "      <td>no</td>\n",
                            "      <td>yes</td>\n",
                            "      <td>no</td>\n",
                            "      <td>cellular</td>\n",
                            "      <td>apr</td>\n",
                            "      <td>fri</td>\n",
                            "      <td>...</td>\n",
                            "      <td>1</td>\n",
                            "      <td>999</td>\n",
                            "      <td>0</td>\n",
                            "      <td>nonexistent</td>\n",
                            "      <td>-1.8</td>\n",
                            "      <td>93.075</td>\n",
                            "      <td>-47.1</td>\n",
                            "      <td>1.405</td>\n",
                            "      <td>5099.1</td>\n",
                            "      <td>no</td>\n",
                            "    </tr>\n",
                            "    <tr>\n",
                            "      <th>11851</th>\n",
                            "      <td>53</td>\n",
                            "      <td>blue-collar</td>\n",
                            "      <td>divorced</td>\n",
                            "      <td>basic.4y</td>\n",
                            "      <td>unknown</td>\n",
                            "      <td>yes</td>\n",
                            "      <td>no</td>\n",
                            "      <td>telephone</td>\n",
                            "      <td>jun</td>\n",
                            "      <td>fri</td>\n",
                            "      <td>...</td>\n",
                            "      <td>5</td>\n",
                            "      <td>999</td>\n",
                            "      <td>0</td>\n",
                            "      <td>nonexistent</td>\n",
                            "      <td>1.4</td>\n",
                            "      <td>94.465</td>\n",
                            "      <td>-41.8</td>\n",
                            "      <td>4.959</td>\n",
                            "      <td>5228.1</td>\n",
                            "      <td>no</td>\n",
                            "    </tr>\n",
                            "    <tr>\n",
                            "      <th>5670</th>\n",
                            "      <td>54</td>\n",
                            "      <td>retired</td>\n",
                            "      <td>married</td>\n",
                            "      <td>basic.9y</td>\n",
                            "      <td>no</td>\n",
                            "      <td>no</td>\n",
                            "      <td>yes</td>\n",
                            "      <td>telephone</td>\n",
                            "      <td>may</td>\n",
                            "      <td>mon</td>\n",
                            "      <td>...</td>\n",
                            "      <td>1</td>\n",
                            "      <td>999</td>\n",
                            "      <td>0</td>\n",
                            "      <td>nonexistent</td>\n",
                            "      <td>1.1</td>\n",
                            "      <td>93.994</td>\n",
                            "      <td>-36.4</td>\n",
                            "      <td>4.857</td>\n",
                            "      <td>5191.0</td>\n",
                            "      <td>no</td>\n",
                            "    </tr>\n",
                            "  </tbody>\n",
                            "</table>\n",
                            "<p>10 rows × 21 columns</p>\n",
                            "</div>"
                        ],
                        "text/plain": [
                            "       age          job   marital            education  default housing loan  \\\n",
                            "22284   44   technician  divorced  professional.course  unknown     yes   no   \n",
                            "9076    42  blue-collar  divorced          high.school       no      no  yes   \n",
                            "34242   29       admin.    single          high.school       no      no   no   \n",
                            "14815   23  blue-collar    single          high.school       no      no   no   \n",
                            "26450   45  blue-collar   married             basic.9y       no      no   no   \n",
                            "33686   44       admin.   married          high.school       no     yes   no   \n",
                            "15072   27       admin.    single          high.school  unknown     yes   no   \n",
                            "28908   35     services    single          high.school       no     yes   no   \n",
                            "11851   53  blue-collar  divorced             basic.4y  unknown     yes   no   \n",
                            "5670    54      retired   married             basic.9y       no      no  yes   \n",
                            "\n",
                            "         contact month day_of_week  ...  campaign  pdays  previous  \\\n",
                            "22284   cellular   aug         thu  ...         6    999         0   \n",
                            "9076   telephone   jun         thu  ...         7    999         0   \n",
                            "34242   cellular   may         thu  ...         7    999         0   \n",
                            "14815   cellular   jul         wed  ...         1    999         0   \n",
                            "26450   cellular   nov         thu  ...         1    999         0   \n",
                            "33686   cellular   may         wed  ...         3    999         2   \n",
                            "15072   cellular   jul         thu  ...         1    999         0   \n",
                            "28908   cellular   apr         fri  ...         1    999         0   \n",
                            "11851  telephone   jun         fri  ...         5    999         0   \n",
                            "5670   telephone   may         mon  ...         1    999         0   \n",
                            "\n",
                            "          poutcome emp.var.rate  cons.price.idx  cons.conf.idx  euribor3m  \\\n",
                            "22284  nonexistent          1.4          93.444          -36.1      4.963   \n",
                            "9076   nonexistent          1.4          94.465          -41.8      4.866   \n",
                            "34242  nonexistent         -1.8          92.893          -46.2      1.266   \n",
                            "14815  nonexistent          1.4          93.918          -42.7      4.957   \n",
                            "26450  nonexistent         -0.1          93.200          -42.0      4.076   \n",
                            "33686      failure         -1.8          92.893          -46.2      1.281   \n",
                            "15072  nonexistent          1.4          93.918          -42.7      4.958   \n",
                            "28908  nonexistent         -1.8          93.075          -47.1      1.405   \n",
                            "11851  nonexistent          1.4          94.465          -41.8      4.959   \n",
                            "5670   nonexistent          1.1          93.994          -36.4      4.857   \n",
                            "\n",
                            "       nr.employed    y  \n",
                            "22284       5228.1   no  \n",
                            "9076        5228.1   no  \n",
                            "34242       5099.1   no  \n",
                            "14815       5228.1  yes  \n",
                            "26450       5195.8   no  \n",
                            "33686       5099.1   no  \n",
                            "15072       5228.1   no  \n",
                            "28908       5099.1   no  \n",
                            "11851       5228.1   no  \n",
                            "5670        5191.0   no  \n",
                            "\n",
                            "[10 rows x 21 columns]"
                        ]
                    },
                    "execution_count": 280,
                    "metadata": {},
                    "output_type": "execute_result"
                }
            ],
            "source": [
                "df.sample(10)"
            ]
        },
        {
            "cell_type": "code",
            "execution_count": 281,
            "metadata": {},
            "outputs": [
                {
                    "name": "stdout",
                    "output_type": "stream",
                    "text": [
                        "<class 'pandas.core.frame.DataFrame'>\n",
                        "RangeIndex: 41188 entries, 0 to 41187\n",
                        "Data columns (total 21 columns):\n",
                        " #   Column          Non-Null Count  Dtype  \n",
                        "---  ------          --------------  -----  \n",
                        " 0   age             41188 non-null  int64  \n",
                        " 1   job             41188 non-null  object \n",
                        " 2   marital         41188 non-null  object \n",
                        " 3   education       41188 non-null  object \n",
                        " 4   default         41188 non-null  object \n",
                        " 5   housing         41188 non-null  object \n",
                        " 6   loan            41188 non-null  object \n",
                        " 7   contact         41188 non-null  object \n",
                        " 8   month           41188 non-null  object \n",
                        " 9   day_of_week     41188 non-null  object \n",
                        " 10  duration        41188 non-null  int64  \n",
                        " 11  campaign        41188 non-null  int64  \n",
                        " 12  pdays           41188 non-null  int64  \n",
                        " 13  previous        41188 non-null  int64  \n",
                        " 14  poutcome        41188 non-null  object \n",
                        " 15  emp.var.rate    41188 non-null  float64\n",
                        " 16  cons.price.idx  41188 non-null  float64\n",
                        " 17  cons.conf.idx   41188 non-null  float64\n",
                        " 18  euribor3m       41188 non-null  float64\n",
                        " 19  nr.employed     41188 non-null  float64\n",
                        " 20  y               41188 non-null  object \n",
                        "dtypes: float64(5), int64(5), object(11)\n",
                        "memory usage: 6.6+ MB\n"
                    ]
                }
            ],
            "source": [
                "df.info()"
            ]
        },
        {
            "cell_type": "markdown",
            "metadata": {},
            "source": [
                "Se observa que el dataset cuenta con 41.188 observaciones y 21 variables. A su vez, no existen valores nulos en el dataset. Con respecto al tipo de dato, se observa que las variables que están como 'objeto' deberían ser 'category'."
            ]
        },
        {
            "cell_type": "code",
            "execution_count": 282,
            "metadata": {},
            "outputs": [],
            "source": [
                "obj=df.select_dtypes('object').columns"
            ]
        },
        {
            "cell_type": "code",
            "execution_count": 283,
            "metadata": {},
            "outputs": [],
            "source": [
                "df[obj]=df[obj].astype('category')"
            ]
        },
        {
            "cell_type": "markdown",
            "metadata": {},
            "source": [
                "**Variables cualitativas**"
            ]
        },
        {
            "cell_type": "code",
            "execution_count": 284,
            "metadata": {},
            "outputs": [
                {
                    "data": {
                        "text/html": [
                            "<div>\n",
                            "<style scoped>\n",
                            "    .dataframe tbody tr th:only-of-type {\n",
                            "        vertical-align: middle;\n",
                            "    }\n",
                            "\n",
                            "    .dataframe tbody tr th {\n",
                            "        vertical-align: top;\n",
                            "    }\n",
                            "\n",
                            "    .dataframe thead th {\n",
                            "        text-align: right;\n",
                            "    }\n",
                            "</style>\n",
                            "<table border=\"1\" class=\"dataframe\">\n",
                            "  <thead>\n",
                            "    <tr style=\"text-align: right;\">\n",
                            "      <th></th>\n",
                            "      <th>job</th>\n",
                            "      <th>marital</th>\n",
                            "      <th>education</th>\n",
                            "      <th>default</th>\n",
                            "      <th>housing</th>\n",
                            "      <th>loan</th>\n",
                            "      <th>contact</th>\n",
                            "      <th>month</th>\n",
                            "      <th>day_of_week</th>\n",
                            "      <th>poutcome</th>\n",
                            "      <th>y</th>\n",
                            "    </tr>\n",
                            "  </thead>\n",
                            "  <tbody>\n",
                            "    <tr>\n",
                            "      <th>count</th>\n",
                            "      <td>41188</td>\n",
                            "      <td>41188</td>\n",
                            "      <td>41188</td>\n",
                            "      <td>41188</td>\n",
                            "      <td>41188</td>\n",
                            "      <td>41188</td>\n",
                            "      <td>41188</td>\n",
                            "      <td>41188</td>\n",
                            "      <td>41188</td>\n",
                            "      <td>41188</td>\n",
                            "      <td>41188</td>\n",
                            "    </tr>\n",
                            "    <tr>\n",
                            "      <th>unique</th>\n",
                            "      <td>12</td>\n",
                            "      <td>4</td>\n",
                            "      <td>8</td>\n",
                            "      <td>3</td>\n",
                            "      <td>3</td>\n",
                            "      <td>3</td>\n",
                            "      <td>2</td>\n",
                            "      <td>10</td>\n",
                            "      <td>5</td>\n",
                            "      <td>3</td>\n",
                            "      <td>2</td>\n",
                            "    </tr>\n",
                            "    <tr>\n",
                            "      <th>top</th>\n",
                            "      <td>admin.</td>\n",
                            "      <td>married</td>\n",
                            "      <td>university.degree</td>\n",
                            "      <td>no</td>\n",
                            "      <td>yes</td>\n",
                            "      <td>no</td>\n",
                            "      <td>cellular</td>\n",
                            "      <td>may</td>\n",
                            "      <td>thu</td>\n",
                            "      <td>nonexistent</td>\n",
                            "      <td>no</td>\n",
                            "    </tr>\n",
                            "    <tr>\n",
                            "      <th>freq</th>\n",
                            "      <td>10422</td>\n",
                            "      <td>24928</td>\n",
                            "      <td>12168</td>\n",
                            "      <td>32588</td>\n",
                            "      <td>21576</td>\n",
                            "      <td>33950</td>\n",
                            "      <td>26144</td>\n",
                            "      <td>13769</td>\n",
                            "      <td>8623</td>\n",
                            "      <td>35563</td>\n",
                            "      <td>36548</td>\n",
                            "    </tr>\n",
                            "  </tbody>\n",
                            "</table>\n",
                            "</div>"
                        ],
                        "text/plain": [
                            "           job  marital          education default housing   loan   contact  \\\n",
                            "count    41188    41188              41188   41188   41188  41188     41188   \n",
                            "unique      12        4                  8       3       3      3         2   \n",
                            "top     admin.  married  university.degree      no     yes     no  cellular   \n",
                            "freq     10422    24928              12168   32588   21576  33950     26144   \n",
                            "\n",
                            "        month day_of_week     poutcome      y  \n",
                            "count   41188       41188        41188  41188  \n",
                            "unique     10           5            3      2  \n",
                            "top       may         thu  nonexistent     no  \n",
                            "freq    13769        8623        35563  36548  "
                        ]
                    },
                    "execution_count": 284,
                    "metadata": {},
                    "output_type": "execute_result"
                }
            ],
            "source": [
                "df.describe(include='category')"
            ]
        },
        {
            "cell_type": "markdown",
            "metadata": {},
            "source": [
                "Del resumen anterior se observa la cantidad de clases que tiene cada variable, la clase que predomina y su frecuencia. Así se puede decir que los clientes que trabajan como administradores, están casados, tienen un grado universitario, no son impagos (default), tienen préstamos hipotecarios pero no tienen personales y fueron contactados un miércoles de mayo, tienen mayor probabilidad de no tener un depósito a plazo.\n",
                "\n",
                "Se explora las categorías de cada variables para luego transformarlas en caso de que sea necesario."
            ]
        },
        {
            "cell_type": "code",
            "execution_count": 285,
            "metadata": {},
            "outputs": [
                {
                    "name": "stdout",
                    "output_type": "stream",
                    "text": [
                        "\n",
                        "Categorias de  job\n",
                        "\n",
                        "admin.           0.253035\n",
                        "blue-collar      0.224677\n",
                        "technician       0.163713\n",
                        "services         0.096363\n",
                        "management       0.070992\n",
                        "retired          0.041760\n",
                        "entrepreneur     0.035350\n",
                        "self-employed    0.034500\n",
                        "housemaid        0.025736\n",
                        "unemployed       0.024619\n",
                        "student          0.021244\n",
                        "unknown          0.008012\n",
                        "Name: job, dtype: float64\n",
                        "\n",
                        "Categorias de  marital\n",
                        "\n",
                        "married     0.605225\n",
                        "single      0.280859\n",
                        "divorced    0.111974\n",
                        "unknown     0.001942\n",
                        "Name: marital, dtype: float64\n",
                        "\n",
                        "Categorias de  education\n",
                        "\n",
                        "university.degree      0.295426\n",
                        "high.school            0.231014\n",
                        "basic.9y               0.146766\n",
                        "professional.course    0.127294\n",
                        "basic.4y               0.101389\n",
                        "basic.6y               0.055647\n",
                        "unknown                0.042027\n",
                        "illiterate             0.000437\n",
                        "Name: education, dtype: float64\n",
                        "\n",
                        "Categorias de  default\n",
                        "\n",
                        "no         0.791201\n",
                        "unknown    0.208726\n",
                        "yes        0.000073\n",
                        "Name: default, dtype: float64\n",
                        "\n",
                        "Categorias de  housing\n",
                        "\n",
                        "yes        0.523842\n",
                        "no         0.452122\n",
                        "unknown    0.024036\n",
                        "Name: housing, dtype: float64\n",
                        "\n",
                        "Categorias de  loan\n",
                        "\n",
                        "no         0.824269\n",
                        "yes        0.151695\n",
                        "unknown    0.024036\n",
                        "Name: loan, dtype: float64\n",
                        "\n",
                        "Categorias de  contact\n",
                        "\n",
                        "cellular     0.634748\n",
                        "telephone    0.365252\n",
                        "Name: contact, dtype: float64\n",
                        "\n",
                        "Categorias de  month\n",
                        "\n",
                        "may    0.334296\n",
                        "jul    0.174177\n",
                        "aug    0.149995\n",
                        "jun    0.129115\n",
                        "nov    0.099568\n",
                        "apr    0.063902\n",
                        "oct    0.017432\n",
                        "sep    0.013839\n",
                        "mar    0.013256\n",
                        "dec    0.004419\n",
                        "Name: month, dtype: float64\n",
                        "\n",
                        "Categorias de  day_of_week\n",
                        "\n",
                        "thu    0.209357\n",
                        "mon    0.206711\n",
                        "wed    0.197485\n",
                        "tue    0.196416\n",
                        "fri    0.190031\n",
                        "Name: day_of_week, dtype: float64\n",
                        "\n",
                        "Categorias de  poutcome\n",
                        "\n",
                        "nonexistent    0.863431\n",
                        "failure        0.103234\n",
                        "success        0.033335\n",
                        "Name: poutcome, dtype: float64\n",
                        "\n",
                        "Categorias de  y\n",
                        "\n",
                        "no     0.887346\n",
                        "yes    0.112654\n",
                        "Name: y, dtype: float64\n"
                    ]
                }
            ],
            "source": [
                "for i in df.select_dtypes('category'):\n",
                "    print('')\n",
                "    print('Categorias de ',i)\n",
                "    print('')\n",
                "    print(df[i].value_counts(normalize=True))"
            ]
        },
        {
            "cell_type": "markdown",
            "metadata": {},
            "source": [
                "Se observa que algunas variables continene categorías 'unknow' que no aportan información y se pueden interpretar como valores faltantes. En el paso siguiente se dará un tratamiento a éstas categorías de manera de que las observaciones se puedan utilizar.\n",
                "\n",
                "Con respecto a la variable objetivo 'y' se observa que un 89% de la muestra refiere a clientes que no han realizado un depósito a plazo, mientras que un 11% si lo han hecho."
            ]
        },
        {
            "cell_type": "code",
            "execution_count": 286,
            "metadata": {},
            "outputs": [
                {
                    "data": {
                        "image/png": "[encoded data removed]",
                        "text/plain": [
                            "<Figure size 432x288 with 1 Axes>"
                        ]
                    },
                    "metadata": {
                        "needs_background": "light"
                    },
                    "output_type": "display_data"
                }
            ],
            "source": [
                "df['y'].value_counts().plot(kind='bar',title='Cantidad de clientes según tienen o no depósito a plazo',ylabel='Cantidad')\n",
                "plt.show()"
            ]
        },
        {
            "cell_type": "markdown",
            "metadata": {},
            "source": [
                "Al momento de seleccionar la muestra para entrenar el modelo se debe considerar que la muestra original se encuentra desbalanceada para que no genere un sesgo hacia el 'no' simplemente porque prepondera en los datos utilizados. "
            ]
        },
        {
            "cell_type": "markdown",
            "metadata": {},
            "source": [
                "**Variables cuantitativas**"
            ]
        },
        {
            "cell_type": "code",
            "execution_count": 287,
            "metadata": {},
            "outputs": [
                {
                    "data": {
                        "text/html": [
                            "<div>\n",
                            "<style scoped>\n",
                            "    .dataframe tbody tr th:only-of-type {\n",
                            "        vertical-align: middle;\n",
                            "    }\n",
                            "\n",
                            "    .dataframe tbody tr th {\n",
                            "        vertical-align: top;\n",
                            "    }\n",
                            "\n",
                            "    .dataframe thead th {\n",
                            "        text-align: right;\n",
                            "    }\n",
                            "</style>\n",
                            "<table border=\"1\" class=\"dataframe\">\n",
                            "  <thead>\n",
                            "    <tr style=\"text-align: right;\">\n",
                            "      <th></th>\n",
                            "      <th>age</th>\n",
                            "      <th>duration</th>\n",
                            "      <th>campaign</th>\n",
                            "      <th>pdays</th>\n",
                            "      <th>previous</th>\n",
                            "      <th>emp.var.rate</th>\n",
                            "      <th>cons.price.idx</th>\n",
                            "      <th>cons.conf.idx</th>\n",
                            "      <th>euribor3m</th>\n",
                            "      <th>nr.employed</th>\n",
                            "    </tr>\n",
                            "  </thead>\n",
                            "  <tbody>\n",
                            "    <tr>\n",
                            "      <th>count</th>\n",
                            "      <td>41188.00</td>\n",
                            "      <td>41188.00</td>\n",
                            "      <td>41188.00</td>\n",
                            "      <td>41188.00</td>\n",
                            "      <td>41188.00</td>\n",
                            "      <td>41188.00</td>\n",
                            "      <td>41188.00</td>\n",
                            "      <td>41188.00</td>\n",
                            "      <td>41188.00</td>\n",
                            "      <td>41188.00</td>\n",
                            "    </tr>\n",
                            "    <tr>\n",
                            "      <th>mean</th>\n",
                            "      <td>40.02</td>\n",
                            "      <td>258.29</td>\n",
                            "      <td>2.57</td>\n",
                            "      <td>962.48</td>\n",
                            "      <td>0.17</td>\n",
                            "      <td>0.08</td>\n",
                            "      <td>93.58</td>\n",
                            "      <td>-40.50</td>\n",
                            "      <td>3.62</td>\n",
                            "      <td>5167.04</td>\n",
                            "    </tr>\n",
                            "    <tr>\n",
                            "      <th>std</th>\n",
                            "      <td>10.42</td>\n",
                            "      <td>259.28</td>\n",
                            "      <td>2.77</td>\n",
                            "      <td>186.91</td>\n",
                            "      <td>0.49</td>\n",
                            "      <td>1.57</td>\n",
                            "      <td>0.58</td>\n",
                            "      <td>4.63</td>\n",
                            "      <td>1.73</td>\n",
                            "      <td>72.25</td>\n",
                            "    </tr>\n",
                            "    <tr>\n",
                            "      <th>min</th>\n",
                            "      <td>17.00</td>\n",
                            "      <td>0.00</td>\n",
                            "      <td>1.00</td>\n",
                            "      <td>0.00</td>\n",
                            "      <td>0.00</td>\n",
                            "      <td>-3.40</td>\n",
                            "      <td>92.20</td>\n",
                            "      <td>-50.80</td>\n",
                            "      <td>0.63</td>\n",
                            "      <td>4963.60</td>\n",
                            "    </tr>\n",
                            "    <tr>\n",
                            "      <th>25%</th>\n",
                            "      <td>32.00</td>\n",
                            "      <td>102.00</td>\n",
                            "      <td>1.00</td>\n",
                            "      <td>999.00</td>\n",
                            "      <td>0.00</td>\n",
                            "      <td>-1.80</td>\n",
                            "      <td>93.08</td>\n",
                            "      <td>-42.70</td>\n",
                            "      <td>1.34</td>\n",
                            "      <td>5099.10</td>\n",
                            "    </tr>\n",
                            "    <tr>\n",
                            "      <th>50%</th>\n",
                            "      <td>38.00</td>\n",
                            "      <td>180.00</td>\n",
                            "      <td>2.00</td>\n",
                            "      <td>999.00</td>\n",
                            "      <td>0.00</td>\n",
                            "      <td>1.10</td>\n",
                            "      <td>93.75</td>\n",
                            "      <td>-41.80</td>\n",
                            "      <td>4.86</td>\n",
                            "      <td>5191.00</td>\n",
                            "    </tr>\n",
                            "    <tr>\n",
                            "      <th>75%</th>\n",
                            "      <td>47.00</td>\n",
                            "      <td>319.00</td>\n",
                            "      <td>3.00</td>\n",
                            "      <td>999.00</td>\n",
                            "      <td>0.00</td>\n",
                            "      <td>1.40</td>\n",
                            "      <td>93.99</td>\n",
                            "      <td>-36.40</td>\n",
                            "      <td>4.96</td>\n",
                            "      <td>5228.10</td>\n",
                            "    </tr>\n",
                            "    <tr>\n",
                            "      <th>max</th>\n",
                            "      <td>98.00</td>\n",
                            "      <td>4918.00</td>\n",
                            "      <td>56.00</td>\n",
                            "      <td>999.00</td>\n",
                            "      <td>7.00</td>\n",
                            "      <td>1.40</td>\n",
                            "      <td>94.77</td>\n",
                            "      <td>-26.90</td>\n",
                            "      <td>5.04</td>\n",
                            "      <td>5228.10</td>\n",
                            "    </tr>\n",
                            "  </tbody>\n",
                            "</table>\n",
                            "</div>"
                        ],
                        "text/plain": [
                            "            age  duration  campaign     pdays  previous  emp.var.rate  \\\n",
                            "count  41188.00  41188.00  41188.00  41188.00  41188.00      41188.00   \n",
                            "mean      40.02    258.29      2.57    962.48      0.17          0.08   \n",
                            "std       10.42    259.28      2.77    186.91      0.49          1.57   \n",
                            "min       17.00      0.00      1.00      0.00      0.00         -3.40   \n",
                            "25%       32.00    102.00      1.00    999.00      0.00         -1.80   \n",
                            "50%       38.00    180.00      2.00    999.00      0.00          1.10   \n",
                            "75%       47.00    319.00      3.00    999.00      0.00          1.40   \n",
                            "max       98.00   4918.00     56.00    999.00      7.00          1.40   \n",
                            "\n",
                            "       cons.price.idx  cons.conf.idx  euribor3m  nr.employed  \n",
                            "count        41188.00       41188.00   41188.00     41188.00  \n",
                            "mean            93.58         -40.50       3.62      5167.04  \n",
                            "std              0.58           4.63       1.73        72.25  \n",
                            "min             92.20         -50.80       0.63      4963.60  \n",
                            "25%             93.08         -42.70       1.34      5099.10  \n",
                            "50%             93.75         -41.80       4.86      5191.00  \n",
                            "75%             93.99         -36.40       4.96      5228.10  \n",
                            "max             94.77         -26.90       5.04      5228.10  "
                        ]
                    },
                    "execution_count": 287,
                    "metadata": {},
                    "output_type": "execute_result"
                }
            ],
            "source": [
                "round(df.describe(include=['int','float64']),2)"
            ]
        },
        {
            "cell_type": "code",
            "execution_count": 288,
            "metadata": {},
            "outputs": [
                {
                    "data": {
                        "text/plain": [
                            "96"
                        ]
                    },
                    "execution_count": 288,
                    "metadata": {},
                    "output_type": "execute_result"
                }
            ],
            "source": [
                "round(sum(df['pdays']==999)/len(df)*100)"
            ]
        },
        {
            "cell_type": "markdown",
            "metadata": {},
            "source": [
                "Lo primero que se observa es que la variable pdays tiene un valor 999 que refiere a clientes que no fueron contactados en campañas anteriores. Si bien el 96% de la muestra nunca fue contactada, al ser una variable numérica, el modelo lo va a interpretar como contactos realizados hace 999 días. Para que no genere problemas en el modelado se decide darle un tratamiento, transformandola en una variable binaria indicando si fue contactado o no en campañas anteriores."
            ]
        },
        {
            "cell_type": "code",
            "execution_count": 289,
            "metadata": {},
            "outputs": [
                {
                    "data": {
                        "text/plain": [
                            "no     39673\n",
                            "yes     1515\n",
                            "Name: pdays, dtype: int64"
                        ]
                    },
                    "execution_count": 289,
                    "metadata": {},
                    "output_type": "execute_result"
                }
            ],
            "source": [
                "df['pdays']=['no' if i==999 else 'yes' for i in df['pdays']]\n",
                "df['pdays'].value_counts()"
            ]
        },
        {
            "cell_type": "markdown",
            "metadata": {},
            "source": [
                "A simple vista se observa que en algunas variables distan mucho el 1er cuartil del minimo y/o el 3er cuartil del valor máximo, lo que llama la atención. A continuación se observa cuántas casos existen de este tipo."
            ]
        },
        {
            "cell_type": "code",
            "execution_count": 290,
            "metadata": {},
            "outputs": [
                {
                    "name": "stdout",
                    "output_type": "stream",
                    "text": [
                        "Variable  age\n",
                        "Existen 0 posibles outliers en la cola izquierda\n",
                        "Existen 469 posibles outliers en la cola derecha\n",
                        "Variable  duration\n",
                        "Existen 0 posibles outliers en la cola izquierda\n",
                        "Existen 2963 posibles outliers en la cola derecha\n",
                        "Variable  campaign\n",
                        "Existen 0 posibles outliers en la cola izquierda\n",
                        "Existen 2406 posibles outliers en la cola derecha\n",
                        "Variable  previous\n",
                        "Existen 0 posibles outliers en la cola izquierda\n",
                        "Existen 5625 posibles outliers en la cola derecha\n",
                        "Variable  emp.var.rate\n",
                        "Existen 0 posibles outliers en la cola izquierda\n",
                        "Existen 0 posibles outliers en la cola derecha\n",
                        "Variable  cons.price.idx\n",
                        "Existen 0 posibles outliers en la cola izquierda\n",
                        "Existen 0 posibles outliers en la cola derecha\n",
                        "Variable  cons.conf.idx\n",
                        "Existen 0 posibles outliers en la cola izquierda\n",
                        "Existen 447 posibles outliers en la cola derecha\n",
                        "Variable  euribor3m\n",
                        "Existen 0 posibles outliers en la cola izquierda\n",
                        "Existen 0 posibles outliers en la cola derecha\n",
                        "Variable  nr.employed\n",
                        "Existen 0 posibles outliers en la cola izquierda\n",
                        "Existen 0 posibles outliers en la cola derecha\n"
                    ]
                }
            ],
            "source": [
                "dic_min={}\n",
                "dic_max={}\n",
                "\n",
                "for i in df.select_dtypes(['float64','int']):\n",
                "    q3, q1 = np.percentile(df[i], [75,25])\n",
                "    IQR=q3-q1\n",
                "    dic_min[i]=q1-IQR*1.5\n",
                "    dic_max[i]=q3+IQR*1.5\n",
                "    print('Variable ',i)\n",
                "    print('Existen', sum(df[i]<q1-IQR*1.5), 'posibles outliers en la cola izquierda') \n",
                "    print('Existen', sum(df[i]>q3+IQR*1.5), 'posibles outliers en la cola derecha')"
            ]
        },
        {
            "cell_type": "markdown",
            "metadata": {},
            "source": [
                "Las variables que tienen posibles outliers son age, duration, campaign, previous y cons.conf.idx."
            ]
        },
        {
            "cell_type": "code",
            "execution_count": 291,
            "metadata": {},
            "outputs": [
                {
                    "data": {
                        "image/png": "[encoded data removed]",
                        "text/plain": [
                            "<Figure size 432x288 with 1 Axes>"
                        ]
                    },
                    "metadata": {
                        "needs_background": "light"
                    },
                    "output_type": "display_data"
                },
                {
                    "data": {
                        "image/png": "[encoded data removed]",
                        "text/plain": [
                            "<Figure size 432x288 with 1 Axes>"
                        ]
                    },
                    "metadata": {
                        "needs_background": "light"
                    },
                    "output_type": "display_data"
                },
                {
                    "data": {
                        "image/png": "[encoded data removed]",
                        "text/plain": [
                            "<Figure size 432x288 with 1 Axes>"
                        ]
                    },
                    "metadata": {
                        "needs_background": "light"
                    },
                    "output_type": "display_data"
                },
                {
                    "data": {
                        "image/png": "[encoded data removed]",
                        "text/plain": [
                            "<Figure size 432x288 with 1 Axes>"
                        ]
                    },
                    "metadata": {
                        "needs_background": "light"
                    },
                    "output_type": "display_data"
                },
                {
                    "data": {
                        "image/png": "[encoded data removed]",
                        "text/plain": [
                            "<Figure size 432x288 with 1 Axes>"
                        ]
                    },
                    "metadata": {
                        "needs_background": "light"
                    },
                    "output_type": "display_data"
                }
            ],
            "source": [
                "for i in ['age','duration','campaign','previous','cons.conf.idx']:\n",
                "    df[[i]].boxplot()\n",
                "    plt.show()"
            ]
        },
        {
            "cell_type": "markdown",
            "metadata": {},
            "source": [
                "La variable previous no parece tener una distribución normal (es discreta), por lo que no se puede utilizar este criterio para detectar outliers. Por otro lado, se decide no eliminar observaciones según la variable age ya que el comportamiento de la variable seguramente se deba a un tema generacional, no a un error en la muestra. Lo que se podría hacer en este caso es considerar distintos rangos etareos para la predicción ya que cada uno se comportará distinto."
            ]
        },
        {
            "cell_type": "code",
            "execution_count": 292,
            "metadata": {},
            "outputs": [],
            "source": [
                "for i in ['duration','campaign','cons.conf.idx']:\n",
                "    df=df[(df[i]> dic_min[i]) & (df[i]<dic_max[i])]\n",
                "    df.reset_index(inplace=True,drop=True)"
            ]
        },
        {
            "cell_type": "code",
            "execution_count": 293,
            "metadata": {},
            "outputs": [
                {
                    "name": "stdout",
                    "output_type": "stream",
                    "text": [
                        "<class 'pandas.core.frame.DataFrame'>\n",
                        "RangeIndex: 34643 entries, 0 to 34642\n",
                        "Data columns (total 21 columns):\n",
                        " #   Column          Non-Null Count  Dtype   \n",
                        "---  ------          --------------  -----   \n",
                        " 0   age             34643 non-null  int64   \n",
                        " 1   job             34643 non-null  category\n",
                        " 2   marital         34643 non-null  category\n",
                        " 3   education       34643 non-null  category\n",
                        " 4   default         34643 non-null  category\n",
                        " 5   housing         34643 non-null  category\n",
                        " 6   loan            34643 non-null  category\n",
                        " 7   contact         34643 non-null  category\n",
                        " 8   month           34643 non-null  category\n",
                        " 9   day_of_week     34643 non-null  category\n",
                        " 10  duration        34643 non-null  int64   \n",
                        " 11  campaign        34643 non-null  int64   \n",
                        " 12  pdays           34643 non-null  object  \n",
                        " 13  previous        34643 non-null  int64   \n",
                        " 14  poutcome        34643 non-null  category\n",
                        " 15  emp.var.rate    34643 non-null  float64 \n",
                        " 16  cons.price.idx  34643 non-null  float64 \n",
                        " 17  cons.conf.idx   34643 non-null  float64 \n",
                        " 18  euribor3m       34643 non-null  float64 \n",
                        " 19  nr.employed     34643 non-null  float64 \n",
                        " 20  y               34643 non-null  category\n",
                        "dtypes: category(11), float64(5), int64(4), object(1)\n",
                        "memory usage: 3.0+ MB\n"
                    ]
                }
            ],
            "source": [
                "df.info()"
            ]
        },
        {
            "cell_type": "markdown",
            "metadata": {},
            "source": [
                "\n",
                "A continuación se observa si existen lineas repetidas en el dataset."
            ]
        },
        {
            "cell_type": "code",
            "execution_count": 294,
            "metadata": {},
            "outputs": [
                {
                    "name": "stdout",
                    "output_type": "stream",
                    "text": [
                        "Existen  11 registros repetidos, se eliminan de la base de datos para que no interfieran en la predicción. Finalmente el dataset contiene  34632  registros únicos.\n"
                    ]
                }
            ],
            "source": [
                "print('Existen ', df.duplicated().sum(),'registros repetidos, se eliminan de la base de datos para que no interfieran en la predicción. Finalmente el dataset contiene ', len(df.drop_duplicates()),' registros únicos.')\n",
                "\n",
                "df=df.drop_duplicates()"
            ]
        },
        {
            "cell_type": "markdown",
            "metadata": {},
            "source": [
                "### Paso 3 : Preprocesamiento de la base de datos"
            ]
        },
        {
            "cell_type": "markdown",
            "metadata": {},
            "source": [
                "**Variables cualitativas**\n",
                "\n",
                "Del análisis anterior se detectó que existen algunas categorías 'unknown' las cuales se deben imputar antes de realizar el modelo de clasificación. A continuación se seleccionan las variables que tienen ésta categoría y luego se sustituye por la moda. "
            ]
        },
        {
            "cell_type": "code",
            "execution_count": null,
            "metadata": {},
            "outputs": [
                {
                    "name": "stdout",
                    "output_type": "stream",
                    "text": [
                        "['job', 'marital', 'education', 'default', 'housing', 'loan']\n"
                    ]
                }
            ],
            "source": [
                "uk=[]\n",
                "for i in df:\n",
                "    [uk.append(i) for n in df[i].unique() if n=='unknown']\n",
                "\n",
                "print(uk)"
            ]
        },
        {
            "cell_type": "code",
            "execution_count": 295,
            "metadata": {},
            "outputs": [],
            "source": [
                "for i in uk:\n",
                "    df=df.replace({i:'unknown'}, df[i].mode()[0]) \n",
                "\n",
                "# Control\n",
                "#uk=[]\n",
                "#for i in df:\n",
                " #   [uk.append(i) for n in df[i].unique() if n=='unknown']\n",
                "\n",
                "#print(uk)"
            ]
        },
        {
            "cell_type": "code",
            "execution_count": 296,
            "metadata": {},
            "outputs": [
                {
                    "data": {
                        "text/html": [
                            "<div>\n",
                            "<style scoped>\n",
                            "    .dataframe tbody tr th:only-of-type {\n",
                            "        vertical-align: middle;\n",
                            "    }\n",
                            "\n",
                            "    .dataframe tbody tr th {\n",
                            "        vertical-align: top;\n",
                            "    }\n",
                            "\n",
                            "    .dataframe thead th {\n",
                            "        text-align: right;\n",
                            "    }\n",
                            "</style>\n",
                            "<table border=\"1\" class=\"dataframe\">\n",
                            "  <thead>\n",
                            "    <tr style=\"text-align: right;\">\n",
                            "      <th></th>\n",
                            "      <th>job</th>\n",
                            "      <th>marital</th>\n",
                            "      <th>education</th>\n",
                            "      <th>default</th>\n",
                            "      <th>housing</th>\n",
                            "      <th>loan</th>\n",
                            "      <th>contact</th>\n",
                            "      <th>month</th>\n",
                            "      <th>day_of_week</th>\n",
                            "      <th>poutcome</th>\n",
                            "      <th>y</th>\n",
                            "    </tr>\n",
                            "  </thead>\n",
                            "  <tbody>\n",
                            "    <tr>\n",
                            "      <th>count</th>\n",
                            "      <td>34632</td>\n",
                            "      <td>34632</td>\n",
                            "      <td>34632</td>\n",
                            "      <td>34632</td>\n",
                            "      <td>34632</td>\n",
                            "      <td>34632</td>\n",
                            "      <td>34632</td>\n",
                            "      <td>34632</td>\n",
                            "      <td>34632</td>\n",
                            "      <td>34632</td>\n",
                            "      <td>34632</td>\n",
                            "    </tr>\n",
                            "    <tr>\n",
                            "      <th>unique</th>\n",
                            "      <td>11</td>\n",
                            "      <td>3</td>\n",
                            "      <td>7</td>\n",
                            "      <td>2</td>\n",
                            "      <td>2</td>\n",
                            "      <td>2</td>\n",
                            "      <td>2</td>\n",
                            "      <td>10</td>\n",
                            "      <td>5</td>\n",
                            "      <td>3</td>\n",
                            "      <td>2</td>\n",
                            "    </tr>\n",
                            "    <tr>\n",
                            "      <th>top</th>\n",
                            "      <td>admin.</td>\n",
                            "      <td>married</td>\n",
                            "      <td>university.degree</td>\n",
                            "      <td>no</td>\n",
                            "      <td>yes</td>\n",
                            "      <td>no</td>\n",
                            "      <td>cellular</td>\n",
                            "      <td>may</td>\n",
                            "      <td>mon</td>\n",
                            "      <td>nonexistent</td>\n",
                            "      <td>no</td>\n",
                            "    </tr>\n",
                            "    <tr>\n",
                            "      <th>freq</th>\n",
                            "      <td>9021</td>\n",
                            "      <td>21062</td>\n",
                            "      <td>11663</td>\n",
                            "      <td>34629</td>\n",
                            "      <td>19041</td>\n",
                            "      <td>29393</td>\n",
                            "      <td>22096</td>\n",
                            "      <td>11861</td>\n",
                            "      <td>7302</td>\n",
                            "      <td>29749</td>\n",
                            "      <td>31765</td>\n",
                            "    </tr>\n",
                            "  </tbody>\n",
                            "</table>\n",
                            "</div>"
                        ],
                        "text/plain": [
                            "           job  marital          education default housing   loan   contact  \\\n",
                            "count    34632    34632              34632   34632   34632  34632     34632   \n",
                            "unique      11        3                  7       2       2      2         2   \n",
                            "top     admin.  married  university.degree      no     yes     no  cellular   \n",
                            "freq      9021    21062              11663   34629   19041  29393     22096   \n",
                            "\n",
                            "        month day_of_week     poutcome      y  \n",
                            "count   34632       34632        34632  34632  \n",
                            "unique     10           5            3      2  \n",
                            "top       may         mon  nonexistent     no  \n",
                            "freq    11861        7302        29749  31765  "
                        ]
                    },
                    "execution_count": 296,
                    "metadata": {},
                    "output_type": "execute_result"
                }
            ],
            "source": [
                "df.describe(include='category')"
            ]
        },
        {
            "cell_type": "markdown",
            "metadata": {},
            "source": [
                "Luego de asignarle la moda a las categorias 'unknown', se observa que la cantidad de categorías disminuye en una pero el valor más frecuente ('top') se mantiene, como era de esperar."
            ]
        },
        {
            "cell_type": "markdown",
            "metadata": {},
            "source": [
                "A continuación se sustituyen las categorías 'basic.9y','basic.6y','basic4y' de la variable education a 'middle_school'."
            ]
        },
        {
            "cell_type": "code",
            "execution_count": 297,
            "metadata": {},
            "outputs": [
                {
                    "data": {
                        "text/plain": [
                            "university.degree      11663\n",
                            "middle_school          10550\n",
                            "high.school             7984\n",
                            "professional.course     4420\n",
                            "illiterate                15\n",
                            "Name: education, dtype: int64"
                        ]
                    },
                    "execution_count": 297,
                    "metadata": {},
                    "output_type": "execute_result"
                }
            ],
            "source": [
                "df=df.replace({'education':['basic.9y','basic.6y','basic.4y']}, 'middle_school')\n",
                "df['education'].value_counts()"
            ]
        },
        {
            "cell_type": "markdown",
            "metadata": {},
            "source": [
                "Se divide en rangos la variable 'age' en linea a lo planteado con anterioridad."
            ]
        },
        {
            "cell_type": "code",
            "execution_count": 305,
            "metadata": {},
            "outputs": [],
            "source": [
                "df['age_rang']=pd.cut(df['age'],bins=[10,20,30,40,50,60,70,80,90,100])\n",
                "df['age_rang']=df['age_rang'].astype('category')"
            ]
        },
        {
            "cell_type": "code",
            "execution_count": 307,
            "metadata": {},
            "outputs": [
                {
                    "data": {
                        "text/plain": [
                            "(30, 40]     13860\n",
                            "(40, 50]      8595\n",
                            "(20, 30]      6064\n",
                            "(50, 60]      5252\n",
                            "(60, 70]       406\n",
                            "(70, 80]       236\n",
                            "(10, 20]       129\n",
                            "(80, 90]        84\n",
                            "(90, 100]        6\n",
                            "Name: age_rang, dtype: int64"
                        ]
                    },
                    "execution_count": 307,
                    "metadata": {},
                    "output_type": "execute_result"
                }
            ],
            "source": [
                "df['age_rang'].value_counts()"
            ]
        },
        {
            "cell_type": "markdown",
            "metadata": {},
            "source": [
                "Por último, se deben transformar a código las categorías para ser utilizadas en el modelo."
            ]
        },
        {
            "cell_type": "code",
            "execution_count": 308,
            "metadata": {},
            "outputs": [],
            "source": [
                "df_cod=df.copy()\n",
                "for i in df.select_dtypes('category'):\n",
                "    df_cod[i]=df[i].cat.codes"
            ]
        },
        {
            "cell_type": "code",
            "execution_count": 312,
            "metadata": {},
            "outputs": [
                {
                    "data": {
                        "text/html": [
                            "<div>\n",
                            "<style scoped>\n",
                            "    .dataframe tbody tr th:only-of-type {\n",
                            "        vertical-align: middle;\n",
                            "    }\n",
                            "\n",
                            "    .dataframe tbody tr th {\n",
                            "        vertical-align: top;\n",
                            "    }\n",
                            "\n",
                            "    .dataframe thead th {\n",
                            "        text-align: right;\n",
                            "    }\n",
                            "</style>\n",
                            "<table border=\"1\" class=\"dataframe\">\n",
                            "  <thead>\n",
                            "    <tr style=\"text-align: right;\">\n",
                            "      <th></th>\n",
                            "      <th>age</th>\n",
                            "      <th>job</th>\n",
                            "      <th>marital</th>\n",
                            "      <th>education</th>\n",
                            "      <th>default</th>\n",
                            "      <th>housing</th>\n",
                            "      <th>loan</th>\n",
                            "      <th>contact</th>\n",
                            "      <th>month</th>\n",
                            "      <th>day_of_week</th>\n",
                            "      <th>...</th>\n",
                            "      <th>pdays</th>\n",
                            "      <th>previous</th>\n",
                            "      <th>poutcome</th>\n",
                            "      <th>emp.var.rate</th>\n",
                            "      <th>cons.price.idx</th>\n",
                            "      <th>cons.conf.idx</th>\n",
                            "      <th>euribor3m</th>\n",
                            "      <th>nr.employed</th>\n",
                            "      <th>y</th>\n",
                            "      <th>age_rang</th>\n",
                            "    </tr>\n",
                            "  </thead>\n",
                            "  <tbody>\n",
                            "    <tr>\n",
                            "      <th>0</th>\n",
                            "      <td>56</td>\n",
                            "      <td>3</td>\n",
                            "      <td>1</td>\n",
                            "      <td>0</td>\n",
                            "      <td>0</td>\n",
                            "      <td>0</td>\n",
                            "      <td>0</td>\n",
                            "      <td>1</td>\n",
                            "      <td>6</td>\n",
                            "      <td>1</td>\n",
                            "      <td>...</td>\n",
                            "      <td>no</td>\n",
                            "      <td>0</td>\n",
                            "      <td>1</td>\n",
                            "      <td>1.1</td>\n",
                            "      <td>93.994</td>\n",
                            "      <td>-36.4</td>\n",
                            "      <td>4.857</td>\n",
                            "      <td>5191.0</td>\n",
                            "      <td>0</td>\n",
                            "      <td>4</td>\n",
                            "    </tr>\n",
                            "    <tr>\n",
                            "      <th>1</th>\n",
                            "      <td>57</td>\n",
                            "      <td>7</td>\n",
                            "      <td>1</td>\n",
                            "      <td>1</td>\n",
                            "      <td>0</td>\n",
                            "      <td>0</td>\n",
                            "      <td>0</td>\n",
                            "      <td>1</td>\n",
                            "      <td>6</td>\n",
                            "      <td>1</td>\n",
                            "      <td>...</td>\n",
                            "      <td>no</td>\n",
                            "      <td>0</td>\n",
                            "      <td>1</td>\n",
                            "      <td>1.1</td>\n",
                            "      <td>93.994</td>\n",
                            "      <td>-36.4</td>\n",
                            "      <td>4.857</td>\n",
                            "      <td>5191.0</td>\n",
                            "      <td>0</td>\n",
                            "      <td>4</td>\n",
                            "    </tr>\n",
                            "    <tr>\n",
                            "      <th>2</th>\n",
                            "      <td>37</td>\n",
                            "      <td>7</td>\n",
                            "      <td>1</td>\n",
                            "      <td>1</td>\n",
                            "      <td>0</td>\n",
                            "      <td>1</td>\n",
                            "      <td>0</td>\n",
                            "      <td>1</td>\n",
                            "      <td>6</td>\n",
                            "      <td>1</td>\n",
                            "      <td>...</td>\n",
                            "      <td>no</td>\n",
                            "      <td>0</td>\n",
                            "      <td>1</td>\n",
                            "      <td>1.1</td>\n",
                            "      <td>93.994</td>\n",
                            "      <td>-36.4</td>\n",
                            "      <td>4.857</td>\n",
                            "      <td>5191.0</td>\n",
                            "      <td>0</td>\n",
                            "      <td>2</td>\n",
                            "    </tr>\n",
                            "    <tr>\n",
                            "      <th>3</th>\n",
                            "      <td>40</td>\n",
                            "      <td>0</td>\n",
                            "      <td>1</td>\n",
                            "      <td>0</td>\n",
                            "      <td>0</td>\n",
                            "      <td>0</td>\n",
                            "      <td>0</td>\n",
                            "      <td>1</td>\n",
                            "      <td>6</td>\n",
                            "      <td>1</td>\n",
                            "      <td>...</td>\n",
                            "      <td>no</td>\n",
                            "      <td>0</td>\n",
                            "      <td>1</td>\n",
                            "      <td>1.1</td>\n",
                            "      <td>93.994</td>\n",
                            "      <td>-36.4</td>\n",
                            "      <td>4.857</td>\n",
                            "      <td>5191.0</td>\n",
                            "      <td>0</td>\n",
                            "      <td>2</td>\n",
                            "    </tr>\n",
                            "    <tr>\n",
                            "      <th>4</th>\n",
                            "      <td>56</td>\n",
                            "      <td>7</td>\n",
                            "      <td>1</td>\n",
                            "      <td>1</td>\n",
                            "      <td>0</td>\n",
                            "      <td>0</td>\n",
                            "      <td>1</td>\n",
                            "      <td>1</td>\n",
                            "      <td>6</td>\n",
                            "      <td>1</td>\n",
                            "      <td>...</td>\n",
                            "      <td>no</td>\n",
                            "      <td>0</td>\n",
                            "      <td>1</td>\n",
                            "      <td>1.1</td>\n",
                            "      <td>93.994</td>\n",
                            "      <td>-36.4</td>\n",
                            "      <td>4.857</td>\n",
                            "      <td>5191.0</td>\n",
                            "      <td>0</td>\n",
                            "      <td>4</td>\n",
                            "    </tr>\n",
                            "  </tbody>\n",
                            "</table>\n",
                            "<p>5 rows × 22 columns</p>\n",
                            "</div>"
                        ],
                        "text/plain": [
                            "   age  job  marital  education  default  housing  loan  contact  month  \\\n",
                            "0   56    3        1          0        0        0     0        1      6   \n",
                            "1   57    7        1          1        0        0     0        1      6   \n",
                            "2   37    7        1          1        0        1     0        1      6   \n",
                            "3   40    0        1          0        0        0     0        1      6   \n",
                            "4   56    7        1          1        0        0     1        1      6   \n",
                            "\n",
                            "   day_of_week  ...  pdays  previous poutcome  emp.var.rate  cons.price.idx  \\\n",
                            "0            1  ...     no         0        1           1.1          93.994   \n",
                            "1            1  ...     no         0        1           1.1          93.994   \n",
                            "2            1  ...     no         0        1           1.1          93.994   \n",
                            "3            1  ...     no         0        1           1.1          93.994   \n",
                            "4            1  ...     no         0        1           1.1          93.994   \n",
                            "\n",
                            "   cons.conf.idx  euribor3m  nr.employed  y  age_rang  \n",
                            "0          -36.4      4.857       5191.0  0         4  \n",
                            "1          -36.4      4.857       5191.0  0         4  \n",
                            "2          -36.4      4.857       5191.0  0         2  \n",
                            "3          -36.4      4.857       5191.0  0         2  \n",
                            "4          -36.4      4.857       5191.0  0         4  \n",
                            "\n",
                            "[5 rows x 22 columns]"
                        ]
                    },
                    "execution_count": 312,
                    "metadata": {},
                    "output_type": "execute_result"
                }
            ],
            "source": [
                "df_cod.head()"
            ]
        },
        {
            "cell_type": "markdown",
            "metadata": {},
            "source": [
                "Step 4"
            ]
        },
        {
            "cell_type": "code",
            "execution_count": null,
            "metadata": {},
            "outputs": [],
            "source": [
                "X=df.drop(columns=['y'])"
            ]
        },
        {
            "cell_type": "code",
            "execution_count": null,
            "metadata": {},
            "outputs": [],
            "source": [
                "y=df['y']"
            ]
        },
        {
            "cell_type": "code",
            "execution_count": null,
            "metadata": {},
            "outputs": [
                {
                    "data": {
                        "text/plain": [
                            "Index(['age', 'duration', 'campaign', 'pdays', 'previous', 'emp.var.rate',\n",
                            "       'cons.price.idx', 'cons.conf.idx', 'euribor3m', 'nr.employed'],\n",
                            "      dtype='object')"
                        ]
                    },
                    "execution_count": 14,
                    "metadata": {},
                    "output_type": "execute_result"
                }
            ],
            "source": [
                "X.select_dtypes(include=['int','float64']).columns"
            ]
        },
        {
            "cell_type": "code",
            "execution_count": null,
            "metadata": {},
            "outputs": [],
            "source": [
                "#scikit learn logistic regression"
            ]
        }
    ],
    "metadata": {
        "kernelspec": {
            "display_name": "Python 3.8.13 64-bit ('3.8.13')",
            "language": "python",
            "name": "python3"
        },
        "language_info": {
            "codemirror_mode": {
                "name": "ipython",
                "version": 3
            },
            "file_extension": ".py",
            "mimetype": "text/x-python",
            "name": "python",
            "nbconvert_exporter": "python",
            "pygments_lexer": "ipython3",
            "version": "3.8.13"
        },
        "orig_nbformat": 4,
        "vscode": {
            "interpreter": {
                "hash": "110cc1dee26208153f2972f08a2ad52b6a56238dc66d48e87fb757ef2996db56"
            }
        }
    },
    "nbformat": 4,
    "nbformat_minor": 2
}
